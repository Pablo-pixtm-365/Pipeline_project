{
 "cells": [
  {
   "cell_type": "code",
   "execution_count": 1,
   "metadata": {},
   "outputs": [],
   "source": [
    "import pyspark   # se importa pyspark\n",
    "from pyspark.sql import SparkSession # importar una sesion \n",
    "from pyspark.sql.types import * # se importa para poder ver o comprobar los tipos utilizados\n",
    "from pyspark.sql.functions import * # importamos todas las funciones de sql"
   ]
  },
  {
   "cell_type": "code",
   "execution_count": null,
   "metadata": {},
   "outputs": [],
   "source": [
    "#spark = SparkSession.builder.getOrCreate() # se crea un dataframe, y se verifica la sesion de spark \n",
    "#df = spark.sql(\"Select 'Spark' As Hello\") # query de sql \n",
    "#df.show()"
   ]
  },
  {
   "cell_type": "code",
   "execution_count": 2,
   "metadata": {},
   "outputs": [],
   "source": [
    "# Configuramos la sesión de spark  \n",
    "spark = SparkSession\\\n",
    "    .builder\\\n",
    "    .master('local[2]')\\\n",
    "    .appName('quake_etl')\\\n",
    "    .config('spark.jars.packages', 'org.mongodb.spark:mongo-spark-connector_2.12:2.4.1')\\\n",
    "    .getOrCreate()"
   ]
  },
  {
   "cell_type": "code",
   "execution_count": 3,
   "metadata": {},
   "outputs": [
    {
     "data": {
      "text/plain": [
       "[Row(Date='01/02/1965', Time='13:44:18', Latitude='19.246', Longitude='145.616', Type='Earthquake', Depth='131.6', Depth Error=None, Depth Seismic Stations=None, Magnitude='6', Magnitude Type='MW', Magnitude Error=None, Magnitude Seismic Stations=None, Azimuthal Gap=None, Horizontal Distance=None, Horizontal Error=None, Root Mean Square=None, ID='ISCGEM860706', Source='ISCGEM', Location Source='ISCGEM', Magnitude Source='ISCGEM', Status='Automatic')]"
      ]
     },
     "execution_count": 3,
     "metadata": {},
     "output_type": "execute_result"
    }
   ],
   "source": [
    "# Cargamos el dataset\n",
    "df_quake = spark.read.csv(r'database.csv', header=True)\n",
    "# tomamos y leemos la primera parte\n",
    "df_quake.take(1)"
   ]
  },
  {
   "cell_type": "code",
   "execution_count": 4,
   "metadata": {},
   "outputs": [
    {
     "name": "stdout",
     "output_type": "stream",
     "text": [
      "+----------+--------+--------+---------+----------+-----+-----------+----------------------+---------+--------------+---------------+--------------------------+-------------+-------------------+----------------+----------------+------------+------+---------------+----------------+---------+\n",
      "|      Date|    Time|Latitude|Longitude|      Type|Depth|Depth Error|Depth Seismic Stations|Magnitude|Magnitude Type|Magnitude Error|Magnitude Seismic Stations|Azimuthal Gap|Horizontal Distance|Horizontal Error|Root Mean Square|          ID|Source|Location Source|Magnitude Source|   Status|\n",
      "+----------+--------+--------+---------+----------+-----+-----------+----------------------+---------+--------------+---------------+--------------------------+-------------+-------------------+----------------+----------------+------------+------+---------------+----------------+---------+\n",
      "|01/02/1965|13:44:18|  19.246|  145.616|Earthquake|131.6|       null|                  null|        6|            MW|           null|                      null|         null|               null|            null|            null|ISCGEM860706|ISCGEM|         ISCGEM|          ISCGEM|Automatic|\n",
      "|01/04/1965|11:29:49|   1.863|  127.352|Earthquake|   80|       null|                  null|      5.8|            MW|           null|                      null|         null|               null|            null|            null|ISCGEM860737|ISCGEM|         ISCGEM|          ISCGEM|Automatic|\n",
      "|01/05/1965|18:05:58| -20.579| -173.972|Earthquake|   20|       null|                  null|      6.2|            MW|           null|                      null|         null|               null|            null|            null|ISCGEM860762|ISCGEM|         ISCGEM|          ISCGEM|Automatic|\n",
      "|01/08/1965|18:49:43| -59.076|  -23.557|Earthquake|   15|       null|                  null|      5.8|            MW|           null|                      null|         null|               null|            null|            null|ISCGEM860856|ISCGEM|         ISCGEM|          ISCGEM|Automatic|\n",
      "|01/09/1965|13:32:50|  11.938|  126.427|Earthquake|   15|       null|                  null|      5.8|            MW|           null|                      null|         null|               null|            null|            null|ISCGEM860890|ISCGEM|         ISCGEM|          ISCGEM|Automatic|\n",
      "+----------+--------+--------+---------+----------+-----+-----------+----------------------+---------+--------------+---------------+--------------------------+-------------+-------------------+----------------+----------------+------------+------+---------------+----------------+---------+\n",
      "only showing top 5 rows\n",
      "\n"
     ]
    }
   ],
   "source": [
    "df_quake.show(5)"
   ]
  },
  {
   "cell_type": "code",
   "execution_count": 5,
   "metadata": {},
   "outputs": [
    {
     "data": {
      "text/plain": [
       "DataFrame[summary: string, Date: string, Time: string, Latitude: string, Longitude: string, Type: string, Depth: string, Depth Error: string, Depth Seismic Stations: string, Magnitude: string, Magnitude Type: string, Magnitude Error: string, Magnitude Seismic Stations: string, Azimuthal Gap: string, Horizontal Distance: string, Horizontal Error: string, Root Mean Square: string, ID: string, Source: string, Location Source: string, Magnitude Source: string, Status: string]"
      ]
     },
     "execution_count": 5,
     "metadata": {},
     "output_type": "execute_result"
    }
   ],
   "source": [
    "df_quake.describe()"
   ]
  },
  {
   "cell_type": "code",
   "execution_count": 6,
   "metadata": {},
   "outputs": [
    {
     "name": "stdout",
     "output_type": "stream",
     "text": [
      "+----------+--------+---------+----------+-----+---------+--------------+------------+\n",
      "|      Date|Latitude|Longitude|      Type|Depth|Magnitude|Magnitude Type|          ID|\n",
      "+----------+--------+---------+----------+-----+---------+--------------+------------+\n",
      "|01/02/1965|  19.246|  145.616|Earthquake|131.6|        6|            MW|ISCGEM860706|\n",
      "|01/04/1965|   1.863|  127.352|Earthquake|   80|      5.8|            MW|ISCGEM860737|\n",
      "|01/05/1965| -20.579| -173.972|Earthquake|   20|      6.2|            MW|ISCGEM860762|\n",
      "|01/08/1965| -59.076|  -23.557|Earthquake|   15|      5.8|            MW|ISCGEM860856|\n",
      "|01/09/1965|  11.938|  126.427|Earthquake|   15|      5.8|            MW|ISCGEM860890|\n",
      "+----------+--------+---------+----------+-----+---------+--------------+------------+\n",
      "only showing top 5 rows\n",
      "\n"
     ]
    }
   ],
   "source": [
    "# quitamos las columnas inecesarios \n",
    "quitar = ['Depth Error', 'Time', 'Depth Seismic Stations','Magnitude Error','Magnitude Seismic Stations','Azimuthal Gap', 'Horizontal Distance','Horizontal Error',\n",
    "    'Root Mean Square','Source','Location Source','Magnitude Source','Status']\n",
    "\n",
    "df_quake = df_quake.drop(*quitar)\n",
    "# mostramos los nuevos datos\n",
    "df_quake.show(5)"
   ]
  },
  {
   "cell_type": "code",
   "execution_count": 7,
   "metadata": {},
   "outputs": [
    {
     "name": "stdout",
     "output_type": "stream",
     "text": [
      "+----------+--------+---------+----------+-----+---------+--------------+------------+----+\n",
      "|      Date|Latitude|Longitude|      Type|Depth|Magnitude|Magnitude Type|          ID|Year|\n",
      "+----------+--------+---------+----------+-----+---------+--------------+------------+----+\n",
      "|01/02/1965|  19.246|  145.616|Earthquake|131.6|        6|            MW|ISCGEM860706|1965|\n",
      "|01/04/1965|   1.863|  127.352|Earthquake|   80|      5.8|            MW|ISCGEM860737|1965|\n",
      "|01/05/1965| -20.579| -173.972|Earthquake|   20|      6.2|            MW|ISCGEM860762|1965|\n",
      "|01/08/1965| -59.076|  -23.557|Earthquake|   15|      5.8|            MW|ISCGEM860856|1965|\n",
      "|01/09/1965|  11.938|  126.427|Earthquake|   15|      5.8|            MW|ISCGEM860890|1965|\n",
      "+----------+--------+---------+----------+-----+---------+--------------+------------+----+\n",
      "only showing top 5 rows\n",
      "\n"
     ]
    }
   ],
   "source": [
    "# Create a new column with only the years\n",
    "df_quake = df_quake.withColumn('Year', year(to_timestamp('Date', 'dd/MM/yyyy')))\n",
    "# show eith the new column\n",
    "df_quake.show(5)"
   ]
  },
  {
   "cell_type": "code",
   "execution_count": 8,
   "metadata": {},
   "outputs": [
    {
     "name": "stdout",
     "output_type": "stream",
     "text": [
      "+----+------+\n",
      "|Year|Counts|\n",
      "+----+------+\n",
      "|1990|   196|\n",
      "|1975|   150|\n",
      "|1977|   148|\n",
      "|2003|   187|\n",
      "|2007|   211|\n",
      "|1974|   147|\n",
      "|2015|   175|\n",
      "|2006|   176|\n",
      "+----+------+\n",
      "only showing top 8 rows\n",
      "\n"
     ]
    }
   ],
   "source": [
    "# Count the frecuency of each year\n",
    "df_frequency = df_quake.groupBy('Year').count().withColumnRenamed('count', 'Counts')\n",
    "# show the frecuency\n",
    "df_frequency.show(8)"
   ]
  },
  {
   "cell_type": "code",
   "execution_count": 9,
   "metadata": {},
   "outputs": [
    {
     "name": "stdout",
     "output_type": "stream",
     "text": [
      "root\n",
      " |-- Date: string (nullable = true)\n",
      " |-- Latitude: string (nullable = true)\n",
      " |-- Longitude: string (nullable = true)\n",
      " |-- Type: string (nullable = true)\n",
      " |-- Depth: string (nullable = true)\n",
      " |-- Magnitude: string (nullable = true)\n",
      " |-- Magnitude Type: string (nullable = true)\n",
      " |-- ID: string (nullable = true)\n",
      " |-- Year: integer (nullable = true)\n",
      "\n"
     ]
    }
   ],
   "source": [
    "df_quake.printSchema()"
   ]
  },
  {
   "cell_type": "code",
   "execution_count": 10,
   "metadata": {},
   "outputs": [
    {
     "name": "stdout",
     "output_type": "stream",
     "text": [
      "+----------+--------+---------+----------+-----+---------+--------------+------------+----+\n",
      "|      Date|Latitude|Longitude|      Type|Depth|Magnitude|Magnitude Type|          ID|Year|\n",
      "+----------+--------+---------+----------+-----+---------+--------------+------------+----+\n",
      "|01/02/1965|  19.246|  145.616|Earthquake|131.6|      6.0|            MW|ISCGEM860706|1965|\n",
      "|01/04/1965|   1.863|  127.352|Earthquake| 80.0|      5.8|            MW|ISCGEM860737|1965|\n",
      "|01/05/1965| -20.579| -173.972|Earthquake| 20.0|      6.2|            MW|ISCGEM860762|1965|\n",
      "|01/08/1965| -59.076|  -23.557|Earthquake| 15.0|      5.8|            MW|ISCGEM860856|1965|\n",
      "|01/09/1965|  11.938|  126.427|Earthquake| 15.0|      5.8|            MW|ISCGEM860890|1965|\n",
      "+----------+--------+---------+----------+-----+---------+--------------+------------+----+\n",
      "only showing top 5 rows\n",
      "\n"
     ]
    }
   ],
   "source": [
    "# Change the types of the columns for the correct type\n",
    "df_quake = df_quake.withColumn('Latitude', df_quake['Latitude'].cast(DoubleType()))\\\n",
    "    .withColumn('Longitude', df_quake['Longitude'].cast(DoubleType()))\\\n",
    "    .withColumn('Depth', df_quake['Depth'].cast(DoubleType()))\\\n",
    "    .withColumn('Magnitude', df_quake['Magnitude'].cast(DoubleType()))\n",
    "\n",
    "# show\n",
    "df_quake.show(5)"
   ]
  },
  {
   "cell_type": "code",
   "execution_count": 11,
   "metadata": {},
   "outputs": [
    {
     "name": "stdout",
     "output_type": "stream",
     "text": [
      "root\n",
      " |-- Date: string (nullable = true)\n",
      " |-- Latitude: double (nullable = true)\n",
      " |-- Longitude: double (nullable = true)\n",
      " |-- Type: string (nullable = true)\n",
      " |-- Depth: double (nullable = true)\n",
      " |-- Magnitude: double (nullable = true)\n",
      " |-- Magnitude Type: string (nullable = true)\n",
      " |-- ID: string (nullable = true)\n",
      " |-- Year: integer (nullable = true)\n",
      "\n"
     ]
    }
   ],
   "source": [
    "# corrobore the types of the columns again\n",
    "df_quake.printSchema()"
   ]
  },
  {
   "cell_type": "code",
   "execution_count": 12,
   "metadata": {},
   "outputs": [
    {
     "name": "stdout",
     "output_type": "stream",
     "text": [
      "+----+-------------+\n",
      "|Year|Max_Magnitude|\n",
      "+----+-------------+\n",
      "|1990|          7.6|\n",
      "|1975|          7.8|\n",
      "|1977|          7.6|\n",
      "|2003|          7.6|\n",
      "|2007|          8.4|\n",
      "|1974|          7.6|\n",
      "|2015|          7.5|\n",
      "|2006|          8.0|\n",
      "+----+-------------+\n",
      "only showing top 8 rows\n",
      "\n"
     ]
    }
   ],
   "source": [
    "# Find the max Magnitude \n",
    "df_max = df_quake.groupBy('Year').max('Magnitude').withColumnRenamed('max(Magnitude)', 'Max_Magnitude')\n",
    "df_max.show(8)"
   ]
  },
  {
   "cell_type": "code",
   "execution_count": 13,
   "metadata": {},
   "outputs": [
    {
     "name": "stdout",
     "output_type": "stream",
     "text": [
      "+----+-----------------+\n",
      "|Year|    Avg_Magnitude|\n",
      "+----+-----------------+\n",
      "|1990|5.858163265306125|\n",
      "|1975| 5.84866666666667|\n",
      "|1977|5.757432432432437|\n",
      "|2003|5.850802139037435|\n",
      "|2007| 5.89099526066351|\n",
      "|1974|5.890476190476194|\n",
      "|2015|5.842857142857147|\n",
      "|2006|5.838068181818182|\n",
      "+----+-----------------+\n",
      "only showing top 8 rows\n",
      "\n"
     ]
    }
   ],
   "source": [
    "# Find the average of magnitude\n",
    "df_avg = df_quake.groupBy('Year').avg('Magnitude').withColumnRenamed('avg(Magnitude)', 'Avg_Magnitude')\n",
    "df_avg.show(8)"
   ]
  },
  {
   "cell_type": "code",
   "execution_count": 14,
   "metadata": {},
   "outputs": [
    {
     "name": "stdout",
     "output_type": "stream",
     "text": [
      "+----+------+-----------------+-------------+\n",
      "|Year|Counts|    Avg_Magnitude|Max_Magnitude|\n",
      "+----+------+-----------------+-------------+\n",
      "|1990|   196|5.858163265306125|          7.6|\n",
      "|1975|   150| 5.84866666666667|          7.8|\n",
      "|1977|   148|5.757432432432437|          7.6|\n",
      "|2003|   187|5.850802139037435|          7.6|\n",
      "|2007|   211| 5.89099526066351|          8.4|\n",
      "|1974|   147|5.890476190476194|          7.6|\n",
      "|2015|   175|5.842857142857147|          7.5|\n",
      "|2006|   176|5.838068181818182|          8.0|\n",
      "+----+------+-----------------+-------------+\n",
      "only showing top 8 rows\n",
      "\n"
     ]
    }
   ],
   "source": [
    "# Join the df_frecuency with df_avg and df_max\n",
    "df_frequency = df_frequency.join(df_avg, ['Year']).join(df_max, ['Year'])\n",
    "# show the new Df\n",
    "df_frequency.show(8)"
   ]
  },
  {
   "cell_type": "code",
   "execution_count": 15,
   "metadata": {},
   "outputs": [
    {
     "name": "stdout",
     "output_type": "stream",
     "text": [
      "+----+--------+---------+----+-----+---------+--------------+---+-----+\n",
      "|Date|Latitude|Longitude|Type|Depth|Magnitude|Magnitude Type| ID| Year|\n",
      "+----+--------+---------+----+-----+---------+--------------+---+-----+\n",
      "|   0|       0|        0|   0|    0|        0|             3|  0|14211|\n",
      "+----+--------+---------+----+-----+---------+--------------+---+-----+\n",
      "\n"
     ]
    }
   ],
   "source": [
    "# Show the count null values in df_quake \n",
    "df_quake.select([count(when(col(c).isNull(), c)).alias(c) for c in df_quake.columns]).show()"
   ]
  },
  {
   "cell_type": "code",
   "execution_count": 16,
   "metadata": {},
   "outputs": [
    {
     "data": {
      "text/plain": [
       "(23412, 9)"
      ]
     },
     "execution_count": 16,
     "metadata": {},
     "output_type": "execute_result"
    }
   ],
   "source": [
    "# view the shape of df_quake\n",
    "(df_quake.count(), len(df_quake.columns))"
   ]
  },
  {
   "cell_type": "code",
   "execution_count": 17,
   "metadata": {},
   "outputs": [
    {
     "name": "stdout",
     "output_type": "stream",
     "text": [
      "+----+------+-------------+-------------+\n",
      "|Year|Counts|Avg_Magnitude|Max_Magnitude|\n",
      "+----+------+-------------+-------------+\n",
      "|   0|     0|            0|            0|\n",
      "+----+------+-------------+-------------+\n",
      "\n"
     ]
    }
   ],
   "source": [
    "# show the count null values in df_frequency\n",
    "df_frequency.select([count(when(col(c).isNull(), c)).alias(c) for c in df_frequency.columns]).show()"
   ]
  },
  {
   "cell_type": "code",
   "execution_count": 18,
   "metadata": {},
   "outputs": [
    {
     "data": {
      "text/plain": [
       "(52, 4)"
      ]
     },
     "execution_count": 18,
     "metadata": {},
     "output_type": "execute_result"
    }
   ],
   "source": [
    "# view the shape of df_frequency\n",
    "(df_frequency.count(), len(df_frequency.columns))"
   ]
  },
  {
   "cell_type": "code",
   "execution_count": 19,
   "metadata": {},
   "outputs": [
    {
     "data": {
      "text/plain": [
       "DataFrame[Year: int, Counts: bigint, Avg_Magnitude: double, Max_Magnitude: double]"
      ]
     },
     "execution_count": 19,
     "metadata": {},
     "output_type": "execute_result"
    }
   ],
   "source": [
    "# Remove the null values \n",
    "df_quake.dropna()\n",
    "df_frequency.dropna()"
   ]
  },
  {
   "cell_type": "code",
   "execution_count": null,
   "metadata": {},
   "outputs": [],
   "source": []
  },
  {
   "cell_type": "markdown",
   "metadata": {},
   "source": [
    "### Show in other DF drop of the null values"
   ]
  },
  {
   "cell_type": "code",
   "execution_count": null,
   "metadata": {},
   "outputs": [],
   "source": [
    "# Remove the null values \n",
    "new_quake = df_quake.dropna()\n",
    "new_frequency = df_frequency.dropna()"
   ]
  },
  {
   "cell_type": "code",
   "execution_count": null,
   "metadata": {},
   "outputs": [],
   "source": [
    "# view the shape of df_quake\n",
    "(new_quake.count(), len(new_quake.columns))"
   ]
  },
  {
   "cell_type": "code",
   "execution_count": null,
   "metadata": {},
   "outputs": [],
   "source": [
    "# view the shape of df_frequency\n",
    "(new_frequency.count(), len(new_frequency.columns))"
   ]
  },
  {
   "cell_type": "code",
   "execution_count": null,
   "metadata": {},
   "outputs": [],
   "source": []
  },
  {
   "cell_type": "code",
   "execution_count": null,
   "metadata": {},
   "outputs": [],
   "source": [
    "# view of dataframes\n",
    "df_quake.show(8)"
   ]
  },
  {
   "cell_type": "code",
   "execution_count": null,
   "metadata": {},
   "outputs": [],
   "source": [
    "df_frequency.show(8)"
   ]
  },
  {
   "cell_type": "markdown",
   "metadata": {},
   "source": [
    "### Connect with Mongodb"
   ]
  },
  {
   "cell_type": "code",
   "execution_count": 20,
   "metadata": {},
   "outputs": [],
   "source": [
    "# For built the collections in mongodb, we need to write df_quake to mongodb\n",
    "df_quake.write.format('mongo')\\\n",
    "    .mode('overwrite')\\\n",
    "    .option('spark.mongodb.output.uri', 'mongodb://127.0.0.1:27017/Quake.quakes').save()"
   ]
  },
  {
   "cell_type": "code",
   "execution_count": 21,
   "metadata": {},
   "outputs": [],
   "source": [
    "# Write df_frequency to mongodb\n",
    "df_frequency.write.format('mongo')\\\n",
    "    .mode('overwrite')\\\n",
    "    .option('spark.mongodb.output.uri', 'mongodb://127.0.0.1:27017/Quake.quake_freq').save()"
   ]
  },
  {
   "cell_type": "markdown",
   "metadata": {},
   "source": [
    "### Data pre-processing"
   ]
  },
  {
   "cell_type": "code",
   "execution_count": 22,
   "metadata": {},
   "outputs": [
    {
     "data": {
      "text/plain": [
       "[Row(time='2017-01-02T00:13:06.300Z', latitude='-36.0365', longitude='51.9288', depth='10', mag='5.7', magType='mwb', nst=None, gap='26', dmin='14.685', rms='1.37', net='us', id='us10007p5d', updated='2017-03-27T23:53:17.040Z', place='Southwest Indian Ridge', type='earthquake', horizontalError='10.3', depthError='1.7', magError='0.068', magNst='21', status='reviewed', locationSource='us', magSource='us')]"
      ]
     },
     "execution_count": 22,
     "metadata": {},
     "output_type": "execute_result"
    }
   ],
   "source": [
    "# Read the test data\n",
    "df_test = spark.read.csv(r'query.csv', header=True)\n",
    "df_test.take(1)"
   ]
  },
  {
   "cell_type": "code",
   "execution_count": 23,
   "metadata": {},
   "outputs": [
    {
     "name": "stdout",
     "output_type": "stream",
     "text": [
      "+--------------------+--------+---------+------+---+-------+----+---+------+----+---+----------+--------------------+--------------------+----------+---------------+----------+--------+------+--------+--------------+---------+\n",
      "|                time|latitude|longitude| depth|mag|magType| nst|gap|  dmin| rms|net|        id|             updated|               place|      type|horizontalError|depthError|magError|magNst|  status|locationSource|magSource|\n",
      "+--------------------+--------+---------+------+---+-------+----+---+------+----+---+----------+--------------------+--------------------+----------+---------------+----------+--------+------+--------+--------------+---------+\n",
      "|2017-01-02T00:13:...|-36.0365|  51.9288|    10|5.7|    mwb|null| 26|14.685|1.37| us|us10007p5d|2017-03-27T23:53:...|Southwest Indian ...|earthquake|           10.3|       1.7|   0.068|    21|reviewed|            us|       us|\n",
      "|2017-01-02T13:13:...|  -4.895| -76.3675|   106|5.9|    mww|null| 31| 3.002|0.82| us|us10007p7n|2020-01-02T23:56:...|37km E of Barranc...|earthquake|            7.1|       1.9|    null|  null|reviewed|            us|       us|\n",
      "|2017-01-02T13:14:...|-23.2513| 179.2383|551.62|6.3|    mww|null| 36|  5.59|0.88| us|us10007p7m|2017-03-27T23:53:...|South of the Fiji...|earthquake|            9.9|       3.3|    0.05|    38|reviewed|            us|       us|\n",
      "|2017-01-03T09:09:...| 24.0151|  92.0177|    32|5.7|    mww|null| 20| 1.375|0.86| us|us10007pfk|2020-01-02T23:56:...|20km ENE of Ambas...|earthquake|            6.7|       1.8|   0.071|    19|reviewed|            us|       us|\n",
      "|2017-01-03T21:19:...|-43.3527| -74.5017| 10.26|5.5|    mww|null| 96| 0.656|0.91| us|us10007piy|2020-01-02T23:56:...|76km WSW of Puert...|earthquake|            4.1|       1.7|   0.071|    19|reviewed|            us|       us|\n",
      "|2017-01-03T21:52:...|-19.3733| 176.0518|    12|6.9|    mww|null| 13| 2.495| 0.9| us|us10007pj6|2018-08-09T08:22:...|226km SW of Nadi,...|earthquake|            7.3|       1.7|    null|  null|reviewed|            us|       us|\n",
      "|2017-01-03T21:55:...|-19.3977| 175.9532|    10|5.7|     mb|null| 78| 2.582|0.94| us|us10007pji|2017-03-27T23:53:...|234km SW of Nadi,...|earthquake|            8.5|       1.8|   0.058|   107|reviewed|            us|       us|\n",
      "|2017-01-03T22:40:...|-19.1207| 176.1875|    10|  6|    mww|null| 26| 2.237|1.01| us|us10007pjt|2017-03-27T23:53:...|195km SW of Nadi,...|earthquake|            7.6|       1.7|   0.073|    18|reviewed|            us|       us|\n",
      "+--------------------+--------+---------+------+---+-------+----+---+------+----+---+----------+--------------------+--------------------+----------+---------------+----------+--------+------+--------+--------------+---------+\n",
      "only showing top 8 rows\n",
      "\n"
     ]
    }
   ],
   "source": [
    "# show the other dataset\n",
    "df_test.show(8)"
   ]
  },
  {
   "cell_type": "code",
   "execution_count": 24,
   "metadata": {},
   "outputs": [
    {
     "data": {
      "text/plain": [
       "(397, 22)"
      ]
     },
     "execution_count": 24,
     "metadata": {},
     "output_type": "execute_result"
    }
   ],
   "source": [
    "(df_test.count(), len(df_test.columns))"
   ]
  },
  {
   "cell_type": "markdown",
   "metadata": {},
   "source": []
  },
  {
   "cell_type": "code",
   "execution_count": 25,
   "metadata": {},
   "outputs": [
    {
     "name": "stdout",
     "output_type": "stream",
     "text": [
      "+----------+-----+------------+--------+---------+---------+--------------+----------+----+--------------------+\n",
      "|      Date|Depth|          ID|Latitude|Longitude|Magnitude|Magnitude Type|      Type|Year|                 _id|\n",
      "+----------+-----+------------+--------+---------+---------+--------------+----------+----+--------------------+\n",
      "|01/02/1965|131.6|ISCGEM860706|  19.246|  145.616|      6.0|            MW|Earthquake|1965|[5f242e152a31516a...|\n",
      "|01/04/1965| 80.0|ISCGEM860737|   1.863|  127.352|      5.8|            MW|Earthquake|1965|[5f242e152a31516a...|\n",
      "|01/05/1965| 20.0|ISCGEM860762| -20.579| -173.972|      6.2|            MW|Earthquake|1965|[5f242e152a31516a...|\n",
      "|01/08/1965| 15.0|ISCGEM860856| -59.076|  -23.557|      5.8|            MW|Earthquake|1965|[5f242e152a31516a...|\n",
      "|01/09/1965| 15.0|ISCGEM860890|  11.938|  126.427|      5.8|            MW|Earthquake|1965|[5f242e152a31516a...|\n",
      "+----------+-----+------------+--------+---------+---------+--------------+----------+----+--------------------+\n",
      "only showing top 5 rows\n",
      "\n"
     ]
    }
   ],
   "source": [
    "# Load the training data of mongodb\n",
    "df_train = spark.read.format('mongo')\\\n",
    "    .option('spark.mongodb.input.uri', 'mongodb://127.0.0.1:27017/Quake.quakes').load()\n",
    "\n",
    "# Preview the data training\n",
    "df_train.show(5)"
   ]
  },
  {
   "cell_type": "code",
   "execution_count": 26,
   "metadata": {},
   "outputs": [
    {
     "name": "stdout",
     "output_type": "stream",
     "text": [
      "+--------------------+--------+---------+---+------+\n",
      "|                time|latitude|longitude|mag| depth|\n",
      "+--------------------+--------+---------+---+------+\n",
      "|2017-01-02T00:13:...|-36.0365|  51.9288|5.7|    10|\n",
      "|2017-01-02T13:13:...|  -4.895| -76.3675|5.9|   106|\n",
      "|2017-01-02T13:14:...|-23.2513| 179.2383|6.3|551.62|\n",
      "|2017-01-03T09:09:...| 24.0151|  92.0177|5.7|    32|\n",
      "|2017-01-03T21:19:...|-43.3527| -74.5017|5.5| 10.26|\n",
      "+--------------------+--------+---------+---+------+\n",
      "only showing top 5 rows\n",
      "\n"
     ]
    }
   ],
   "source": [
    "# Select fields we will use and discard fields we don't need\n",
    "df_test_clean = df_test['time', 'latitude', 'longitude', 'mag', 'depth']\n",
    "df_test_clean.show(5)"
   ]
  },
  {
   "cell_type": "code",
   "execution_count": 27,
   "metadata": {},
   "outputs": [
    {
     "name": "stdout",
     "output_type": "stream",
     "text": [
      "+--------------------+--------+---------+---------+------+\n",
      "|                Date|Latitude|Longitude|Magnitude| Depth|\n",
      "+--------------------+--------+---------+---------+------+\n",
      "|2017-01-02T00:13:...|-36.0365|  51.9288|      5.7|    10|\n",
      "|2017-01-02T13:13:...|  -4.895| -76.3675|      5.9|   106|\n",
      "|2017-01-02T13:14:...|-23.2513| 179.2383|      6.3|551.62|\n",
      "|2017-01-03T09:09:...| 24.0151|  92.0177|      5.7|    32|\n",
      "|2017-01-03T21:19:...|-43.3527| -74.5017|      5.5| 10.26|\n",
      "+--------------------+--------+---------+---------+------+\n",
      "only showing top 5 rows\n",
      "\n"
     ]
    }
   ],
   "source": [
    "# Rename fields\n",
    "df_test_clean = df_test_clean.withColumnRenamed('time', 'Date')\\\n",
    "    .withColumnRenamed('latitude', 'Latitude')\\\n",
    "    .withColumnRenamed('longitude', 'Longitude')\\\n",
    "    .withColumnRenamed('mag', 'Magnitude')\\\n",
    "    .withColumnRenamed('depth', 'Depth')\n",
    "\n",
    "df_test_clean.show(5)"
   ]
  },
  {
   "cell_type": "code",
   "execution_count": 28,
   "metadata": {},
   "outputs": [
    {
     "name": "stdout",
     "output_type": "stream",
     "text": [
      "root\n",
      " |-- Date: string (nullable = true)\n",
      " |-- Latitude: string (nullable = true)\n",
      " |-- Longitude: string (nullable = true)\n",
      " |-- Magnitude: string (nullable = true)\n",
      " |-- Depth: string (nullable = true)\n",
      "\n"
     ]
    }
   ],
   "source": [
    "# whatch the schema\n",
    "df_test_clean.printSchema()"
   ]
  },
  {
   "cell_type": "code",
   "execution_count": 29,
   "metadata": {},
   "outputs": [],
   "source": [
    "# Use of \"cast\" for change the types of string to double \n",
    "df_test_clean = df_test_clean.withColumn('Latitude', df_test_clean['Latitude'].cast(DoubleType()))\\\n",
    "    .withColumn('Longitude', df_test_clean['Longitude'].cast(DoubleType()))\\\n",
    "    .withColumn('Magnitude', df_test_clean['Magnitude'].cast(DoubleType()))\\\n",
    "    .withColumn('Depth', df_test_clean['Depth'].cast(DoubleType()))"
   ]
  },
  {
   "cell_type": "code",
   "execution_count": 30,
   "metadata": {},
   "outputs": [
    {
     "name": "stdout",
     "output_type": "stream",
     "text": [
      "root\n",
      " |-- Date: string (nullable = true)\n",
      " |-- Latitude: double (nullable = true)\n",
      " |-- Longitude: double (nullable = true)\n",
      " |-- Magnitude: double (nullable = true)\n",
      " |-- Depth: double (nullable = true)\n",
      "\n"
     ]
    }
   ],
   "source": [
    "# corroborate\n",
    "df_test_clean.printSchema()"
   ]
  },
  {
   "cell_type": "code",
   "execution_count": 31,
   "metadata": {},
   "outputs": [],
   "source": [
    "# Create training and testing dataframes\n",
    "df_training = df_train['Latitude', 'Longitude', 'Magnitude', 'Depth'] # 1965 to 2016\n",
    "\n",
    "df_testing = df_test_clean['Latitude', 'Longitude', 'Magnitude', 'Depth']"
   ]
  },
  {
   "cell_type": "code",
   "execution_count": 32,
   "metadata": {},
   "outputs": [
    {
     "name": "stdout",
     "output_type": "stream",
     "text": [
      "+--------+---------+---------+-----+\n",
      "|Latitude|Longitude|Magnitude|Depth|\n",
      "+--------+---------+---------+-----+\n",
      "|  19.246|  145.616|      6.0|131.6|\n",
      "|   1.863|  127.352|      5.8| 80.0|\n",
      "| -20.579| -173.972|      6.2| 20.0|\n",
      "| -59.076|  -23.557|      5.8| 15.0|\n",
      "|  11.938|  126.427|      5.8| 15.0|\n",
      "| -13.405|  166.629|      6.7| 35.0|\n",
      "|  27.357|   87.867|      5.9| 20.0|\n",
      "| -13.309|  166.212|      6.0| 35.0|\n",
      "+--------+---------+---------+-----+\n",
      "only showing top 8 rows\n",
      "\n"
     ]
    }
   ],
   "source": [
    "# see the training df\n",
    "df_training.show(8)"
   ]
  },
  {
   "cell_type": "code",
   "execution_count": 33,
   "metadata": {},
   "outputs": [
    {
     "name": "stdout",
     "output_type": "stream",
     "text": [
      "+--------+---------+---------+------+\n",
      "|Latitude|Longitude|Magnitude| Depth|\n",
      "+--------+---------+---------+------+\n",
      "|-36.0365|  51.9288|      5.7|  10.0|\n",
      "|  -4.895| -76.3675|      5.9| 106.0|\n",
      "|-23.2513| 179.2383|      6.3|551.62|\n",
      "| 24.0151|  92.0177|      5.7|  32.0|\n",
      "|-43.3527| -74.5017|      5.5| 10.26|\n",
      "|-19.3733| 176.0518|      6.9|  12.0|\n",
      "|-19.3977| 175.9532|      5.7|  10.0|\n",
      "|-19.1207| 176.1875|      6.0|  10.0|\n",
      "+--------+---------+---------+------+\n",
      "only showing top 8 rows\n",
      "\n"
     ]
    }
   ],
   "source": [
    "# see the testing df\n",
    "df_testing.show(8)"
   ]
  },
  {
   "cell_type": "code",
   "execution_count": null,
   "metadata": {},
   "outputs": [],
   "source": [
    "#df_training.select([count(when(col(c).isNull(), c)).alias(c) for c in df_training.columns]).show()"
   ]
  },
  {
   "cell_type": "code",
   "execution_count": null,
   "metadata": {},
   "outputs": [],
   "source": [
    "#df_training.select([count(when(isnan(c), c)).alias(c) for c in df_training.columns]).show()"
   ]
  },
  {
   "cell_type": "code",
   "execution_count": null,
   "metadata": {},
   "outputs": [],
   "source": [
    "#df_testing.select([count(when(col(c).isNull(), c)).alias(c) for c in df_testing.columns]).show()"
   ]
  },
  {
   "cell_type": "code",
   "execution_count": null,
   "metadata": {},
   "outputs": [],
   "source": [
    "#df_testing.select([count(when(isnan(c), c)).alias(c) for c in df_testing.columns]).show()"
   ]
  },
  {
   "cell_type": "code",
   "execution_count": 34,
   "metadata": {},
   "outputs": [],
   "source": [
    "# Drop the records with null values from our dataframe \n",
    "df_training = df_training.dropna()\n",
    "df_testing = df_testing.dropna()"
   ]
  },
  {
   "cell_type": "code",
   "execution_count": 35,
   "metadata": {},
   "outputs": [
    {
     "name": "stdout",
     "output_type": "stream",
     "text": [
      "+--------+---------+---------+-----+\n",
      "|Latitude|Longitude|Magnitude|Depth|\n",
      "+--------+---------+---------+-----+\n",
      "|  19.246|  145.616|      6.0|131.6|\n",
      "|   1.863|  127.352|      5.8| 80.0|\n",
      "| -20.579| -173.972|      6.2| 20.0|\n",
      "| -59.076|  -23.557|      5.8| 15.0|\n",
      "|  11.938|  126.427|      5.8| 15.0|\n",
      "+--------+---------+---------+-----+\n",
      "only showing top 5 rows\n",
      "\n"
     ]
    }
   ],
   "source": [
    "df_training.show(5)"
   ]
  },
  {
   "cell_type": "code",
   "execution_count": 36,
   "metadata": {},
   "outputs": [
    {
     "data": {
      "text/plain": [
       "(23412, 4)"
      ]
     },
     "execution_count": 36,
     "metadata": {},
     "output_type": "execute_result"
    }
   ],
   "source": [
    "(df_training.count(), len(df_training.columns))"
   ]
  },
  {
   "cell_type": "code",
   "execution_count": 37,
   "metadata": {},
   "outputs": [
    {
     "name": "stdout",
     "output_type": "stream",
     "text": [
      "+--------+---------+---------+------+\n",
      "|Latitude|Longitude|Magnitude| Depth|\n",
      "+--------+---------+---------+------+\n",
      "|-36.0365|  51.9288|      5.7|  10.0|\n",
      "|  -4.895| -76.3675|      5.9| 106.0|\n",
      "|-23.2513| 179.2383|      6.3|551.62|\n",
      "| 24.0151|  92.0177|      5.7|  32.0|\n",
      "|-43.3527| -74.5017|      5.5| 10.26|\n",
      "+--------+---------+---------+------+\n",
      "only showing top 5 rows\n",
      "\n"
     ]
    }
   ],
   "source": [
    "df_testing.show(5)"
   ]
  },
  {
   "cell_type": "code",
   "execution_count": 38,
   "metadata": {},
   "outputs": [
    {
     "data": {
      "text/plain": [
       "(397, 4)"
      ]
     },
     "execution_count": 38,
     "metadata": {},
     "output_type": "execute_result"
    }
   ],
   "source": [
    "(df_testing.count(), len(df_testing.columns))"
   ]
  },
  {
   "cell_type": "code",
   "execution_count": 39,
   "metadata": {},
   "outputs": [],
   "source": [
    "# Import the libraries for make the model \n",
    "from pyspark.ml import Pipeline # allows us to maintain the data flow of all the relevant transformations that are required to reach the end result\n",
    "from pyspark.ml.regression import RandomForestRegressor\n",
    "from pyspark.ml.feature import VectorAssembler\n",
    "from pyspark.ml.evaluation import RegressionEvaluator                                   "
   ]
  },
  {
   "cell_type": "code",
   "execution_count": 40,
   "metadata": {},
   "outputs": [],
   "source": [
    "# Select the features to analyze into our model and then create the feature vector \n",
    "assembler = VectorAssembler(inputCols=['Latitude', 'Longitude', 'Depth'], outputCol='features')\n",
    "\n",
    "# Create the model // labelcol it is for predict the column magnitude (dependent variable)\n",
    "# the features are that the model need for make the predictions \n",
    "model_reg = RandomForestRegressor(featuresCol='features', \n",
    "                                  labelCol='Magnitude',\n",
    "                                  seed=42) # Default is predictionCol = \"prediction\"\n",
    "\n",
    "# Chain the assembler with the model in a pipeline \n",
    "pipeline = Pipeline(stages=[assembler, model_reg])\n",
    "\n",
    "# Train the model // we fit the pipeline with the df_training\n",
    "model = pipeline.fit(df_training)  # To keep our model trained\n",
    "\n",
    "# Make the prediction \n",
    "pred_results = model.transform(df_testing)"
   ]
  },
  {
   "cell_type": "code",
   "execution_count": 41,
   "metadata": {},
   "outputs": [
    {
     "name": "stdout",
     "output_type": "stream",
     "text": [
      "+--------+---------+---------+------+--------------------+-----------------+\n",
      "|Latitude|Longitude|Magnitude| Depth|            features|       prediction|\n",
      "+--------+---------+---------+------+--------------------+-----------------+\n",
      "|-36.0365|  51.9288|      5.7|  10.0|[-36.0365,51.9288...|5.834359794866099|\n",
      "|  -4.895| -76.3675|      5.9| 106.0|[-4.895,-76.3675,...|5.874717259402566|\n",
      "|-23.2513| 179.2383|      6.3|551.62|[-23.2513,179.238...|5.906461434446237|\n",
      "| 24.0151|  92.0177|      5.7|  32.0|[24.0151,92.0177,...|5.894743761504126|\n",
      "|-43.3527| -74.5017|      5.5| 10.26|[-43.3527,-74.501...|5.940326268704404|\n",
      "|-19.3733| 176.0518|      6.9|  12.0|[-19.3733,176.051...|5.982007726977924|\n",
      "|-19.3977| 175.9532|      5.7|  10.0|[-19.3977,175.953...| 5.89185886831292|\n",
      "|-19.1207| 176.1875|      6.0|  10.0|[-19.1207,176.187...| 5.89185886831292|\n",
      "+--------+---------+---------+------+--------------------+-----------------+\n",
      "only showing top 8 rows\n",
      "\n"
     ]
    }
   ],
   "source": [
    "# Preview pred_results dataframe\n",
    "pred_results.show(8)"
   ]
  },
  {
   "cell_type": "code",
   "execution_count": null,
   "metadata": {},
   "outputs": [],
   "source": [
    "#(pred_results.count(), len(pred_results.columns))"
   ]
  },
  {
   "cell_type": "code",
   "execution_count": null,
   "metadata": {},
   "outputs": [],
   "source": []
  },
  {
   "cell_type": "markdown",
   "metadata": {},
   "source": [
    "### Evaluate the model"
   ]
  },
  {
   "cell_type": "code",
   "execution_count": 47,
   "metadata": {},
   "outputs": [
    {
     "name": "stdout",
     "output_type": "stream",
     "text": [
      "Root Mean Squared Error (RMSE) on test data = 0.4011923484762858\n"
     ]
    }
   ],
   "source": [
    "# Evaluate the model\n",
    "# rmse (root mean square area) should be < 0.5 for the model to be useful\n",
    "evaluator = RegressionEvaluator(labelCol='Magnitude', predictionCol='prediction', metricName='rmse')\n",
    "rmse = evaluator.evaluate(pred_results)\n",
    "print(f'Root Mean Squared Error (RMSE) on test data = {rmse}')"
   ]
  },
  {
   "cell_type": "markdown",
   "metadata": {},
   "source": [
    "### Create the Dataset with the predictions"
   ]
  },
  {
   "cell_type": "code",
   "execution_count": 48,
   "metadata": {},
   "outputs": [
    {
     "name": "stdout",
     "output_type": "stream",
     "text": [
      "+--------+---------+-----------------+----+------------------+\n",
      "|Latitude|Longitude|   Pred_Magnitude|Year|              RMSE|\n",
      "+--------+---------+-----------------+----+------------------+\n",
      "|-36.0365|  51.9288|5.834359794866099|2017|0.4011923484762858|\n",
      "|  -4.895| -76.3675|5.874717259402566|2017|0.4011923484762858|\n",
      "|-23.2513| 179.2383|5.906461434446237|2017|0.4011923484762858|\n",
      "| 24.0151|  92.0177|5.894743761504126|2017|0.4011923484762858|\n",
      "|-43.3527| -74.5017|5.940326268704404|2017|0.4011923484762858|\n",
      "|-19.3733| 176.0518|5.982007726977924|2017|0.4011923484762858|\n",
      "|-19.3977| 175.9532| 5.89185886831292|2017|0.4011923484762858|\n",
      "|-19.1207| 176.1875| 5.89185886831292|2017|0.4011923484762858|\n",
      "+--------+---------+-----------------+----+------------------+\n",
      "only showing top 8 rows\n",
      "\n"
     ]
    }
   ],
   "source": [
    "# Create the prediction dataset\n",
    "df_pred_results = pred_results['Latitude', 'Longitude', 'prediction']\n",
    "\n",
    "# Rename the prediction field\n",
    "df_pred_results = df_pred_results.withColumnRenamed('prediction', 'Pred_Magnitude')\n",
    "\n",
    "# Add more columns to our prediction dataset\n",
    "df_pred_results = df_pred_results.withColumn('Year', lit(2017))\\\n",
    "    .withColumn('RMSE', lit(rmse))\n",
    "\n",
    "# see the dataset wih the predictions\n",
    "df_pred_results.show(8)"
   ]
  },
  {
   "cell_type": "markdown",
   "metadata": {},
   "source": [
    "### Load the prediction dataset into mongodb"
   ]
  },
  {
   "cell_type": "code",
   "execution_count": 49,
   "metadata": {},
   "outputs": [],
   "source": [
    "# Write df_pred_results\n",
    "df_pred_results.write.format('mongo')\\\n",
    "    .mode('overwrite')\\\n",
    "    .option('spark.mongodb.output.uri', 'mongodb://127.0.0.1:27017/Quake.pred_results').save() "
   ]
  },
  {
   "cell_type": "markdown",
   "metadata": {},
   "source": [
    "### Data visualization"
   ]
  },
  {
   "cell_type": "code",
   "execution_count": 50,
   "metadata": {},
   "outputs": [],
   "source": [
    "import pandas as pd\n",
    "# Library for show the visualization in the notebook and in other file\n",
    "from bokeh.io import output_notebook, output_file\n",
    "# For access more advanced capabilities in our graphs\n",
    "from bokeh.plotting import figure, show, ColumnDataSource\n",
    "# For pop ups when we over certain section of our crops\n",
    "from bokeh.models.tools import HoverTool\n",
    "import math\n",
    "from math import pi\n",
    "# For manage diferents colors\n",
    "from bokeh.palettes import Category20c\n",
    "# For Create a DataSpec dict to generate a CumSum expression for a ColumnDataSource.\n",
    "from bokeh.transform import cumsum\n",
    "# For make geop map \n",
    "from bokeh.plotting import figure, output_file, show\n",
    "from bokeh.tile_providers import CARTODBPOSITRON, get_provider\n",
    "# For create themes in dashboards \n",
    "from bokeh.themes import built_in_themes\n",
    "from bokeh.io import curdoc\n",
    "# For work with mongo\n",
    "from pymongo import MongoClient"
   ]
  },
  {
   "cell_type": "markdown",
   "metadata": {},
   "source": [
    "### For the visualization we focus to use python"
   ]
  },
  {
   "cell_type": "code",
   "execution_count": 51,
   "metadata": {},
   "outputs": [],
   "source": [
    "# Create a custom read function to read data from mongodb into a dataframe\n",
    "def read_mongo(host='127.0.0.1', port=27017, username=None, password=None, db='Quake', collection='pred_results'):\n",
    "    \n",
    "    mongo_uri = f'mongodb://{host}:{port}/{db}.{collection}'\n",
    "    \n",
    "    # Connect to mongodb\n",
    "    conn = MongoClient(mongo_uri)\n",
    "    db = conn[db]\n",
    "    \n",
    "    # Select all records from the collection\n",
    "    cursor = db[collection].find()\n",
    "    \n",
    "    # Create the dataframe\n",
    "    df = pd.DataFrame(list(cursor))\n",
    "    \n",
    "    # Delete the _id field\n",
    "    del df['_id']\n",
    "    \n",
    "    return df"
   ]
  },
  {
   "cell_type": "code",
   "execution_count": 52,
   "metadata": {},
   "outputs": [],
   "source": [
    "# Load the datasets from mongodb\n",
    "df_quakes = read_mongo(collection='quakes')\n",
    "df_quake_freq = read_mongo(collection='quake_freq')\n",
    "df_quake_pred = read_mongo(collection='pred_results')"
   ]
  },
  {
   "cell_type": "code",
   "execution_count": 94,
   "metadata": {},
   "outputs": [],
   "source": [
    "df_quakes.to_csv('Quakes.csv')"
   ]
  },
  {
   "cell_type": "code",
   "execution_count": 96,
   "metadata": {},
   "outputs": [],
   "source": [
    "df_quake_freq.to_csv('Quakes_freq.csv')"
   ]
  },
  {
   "cell_type": "code",
   "execution_count": 97,
   "metadata": {},
   "outputs": [],
   "source": [
    "df_quake_pred.to_csv('Quakes_with_pred_results.csv')"
   ]
  },
  {
   "cell_type": "code",
   "execution_count": null,
   "metadata": {},
   "outputs": [],
   "source": []
  },
  {
   "cell_type": "code",
   "execution_count": null,
   "metadata": {},
   "outputs": [],
   "source": []
  },
  {
   "cell_type": "code",
   "execution_count": 53,
   "metadata": {},
   "outputs": [
    {
     "data": {
      "text/html": [
       "<div>\n",
       "<style scoped>\n",
       "    .dataframe tbody tr th:only-of-type {\n",
       "        vertical-align: middle;\n",
       "    }\n",
       "\n",
       "    .dataframe tbody tr th {\n",
       "        vertical-align: top;\n",
       "    }\n",
       "\n",
       "    .dataframe thead th {\n",
       "        text-align: right;\n",
       "    }\n",
       "</style>\n",
       "<table border=\"1\" class=\"dataframe\">\n",
       "  <thead>\n",
       "    <tr style=\"text-align: right;\">\n",
       "      <th></th>\n",
       "      <th>Date</th>\n",
       "      <th>Latitude</th>\n",
       "      <th>Longitude</th>\n",
       "      <th>Type</th>\n",
       "      <th>Depth</th>\n",
       "      <th>Magnitude</th>\n",
       "      <th>Magnitude Type</th>\n",
       "      <th>ID</th>\n",
       "      <th>Year</th>\n",
       "    </tr>\n",
       "  </thead>\n",
       "  <tbody>\n",
       "    <tr>\n",
       "      <th>0</th>\n",
       "      <td>01/02/1965</td>\n",
       "      <td>19.246</td>\n",
       "      <td>145.616</td>\n",
       "      <td>Earthquake</td>\n",
       "      <td>131.6</td>\n",
       "      <td>6.0</td>\n",
       "      <td>MW</td>\n",
       "      <td>ISCGEM860706</td>\n",
       "      <td>1965.0</td>\n",
       "    </tr>\n",
       "    <tr>\n",
       "      <th>169</th>\n",
       "      <td>06/12/1965</td>\n",
       "      <td>44.167</td>\n",
       "      <td>149.870</td>\n",
       "      <td>Earthquake</td>\n",
       "      <td>35.0</td>\n",
       "      <td>5.6</td>\n",
       "      <td>MW</td>\n",
       "      <td>ISCGEM856064</td>\n",
       "      <td>1965.0</td>\n",
       "    </tr>\n",
       "    <tr>\n",
       "      <th>170</th>\n",
       "      <td>06/12/1965</td>\n",
       "      <td>43.775</td>\n",
       "      <td>149.448</td>\n",
       "      <td>Earthquake</td>\n",
       "      <td>38.0</td>\n",
       "      <td>5.7</td>\n",
       "      <td>MW</td>\n",
       "      <td>ISCGEM856066</td>\n",
       "      <td>1965.0</td>\n",
       "    </tr>\n",
       "  </tbody>\n",
       "</table>\n",
       "</div>"
      ],
      "text/plain": [
       "           Date  Latitude  Longitude        Type  Depth  Magnitude  \\\n",
       "0    01/02/1965    19.246    145.616  Earthquake  131.6        6.0   \n",
       "169  06/12/1965    44.167    149.870  Earthquake   35.0        5.6   \n",
       "170  06/12/1965    43.775    149.448  Earthquake   38.0        5.7   \n",
       "\n",
       "    Magnitude Type            ID    Year  \n",
       "0               MW  ISCGEM860706  1965.0  \n",
       "169             MW  ISCGEM856064  1965.0  \n",
       "170             MW  ISCGEM856066  1965.0  "
      ]
     },
     "execution_count": 53,
     "metadata": {},
     "output_type": "execute_result"
    }
   ],
   "source": [
    "df_quakes = df_quakes.sort_values('Year')\n",
    "df_quakes.head(3)"
   ]
  },
  {
   "cell_type": "code",
   "execution_count": 54,
   "metadata": {},
   "outputs": [
    {
     "data": {
      "text/html": [
       "<div>\n",
       "<style scoped>\n",
       "    .dataframe tbody tr th:only-of-type {\n",
       "        vertical-align: middle;\n",
       "    }\n",
       "\n",
       "    .dataframe tbody tr th {\n",
       "        vertical-align: top;\n",
       "    }\n",
       "\n",
       "    .dataframe thead th {\n",
       "        text-align: right;\n",
       "    }\n",
       "</style>\n",
       "<table border=\"1\" class=\"dataframe\">\n",
       "  <thead>\n",
       "    <tr style=\"text-align: right;\">\n",
       "      <th></th>\n",
       "      <th>Year</th>\n",
       "      <th>Counts</th>\n",
       "      <th>Avg_Magnitude</th>\n",
       "      <th>Max_Magnitude</th>\n",
       "    </tr>\n",
       "  </thead>\n",
       "  <tbody>\n",
       "    <tr>\n",
       "      <th>27</th>\n",
       "      <td>1965</td>\n",
       "      <td>156</td>\n",
       "      <td>6.009615</td>\n",
       "      <td>8.7</td>\n",
       "    </tr>\n",
       "    <tr>\n",
       "      <th>17</th>\n",
       "      <td>1966</td>\n",
       "      <td>98</td>\n",
       "      <td>6.060714</td>\n",
       "      <td>7.7</td>\n",
       "    </tr>\n",
       "    <tr>\n",
       "      <th>21</th>\n",
       "      <td>1967</td>\n",
       "      <td>103</td>\n",
       "      <td>5.962136</td>\n",
       "      <td>7.2</td>\n",
       "    </tr>\n",
       "    <tr>\n",
       "      <th>13</th>\n",
       "      <td>1968</td>\n",
       "      <td>106</td>\n",
       "      <td>6.070755</td>\n",
       "      <td>7.6</td>\n",
       "    </tr>\n",
       "    <tr>\n",
       "      <th>22</th>\n",
       "      <td>1969</td>\n",
       "      <td>114</td>\n",
       "      <td>6.015789</td>\n",
       "      <td>7.5</td>\n",
       "    </tr>\n",
       "  </tbody>\n",
       "</table>\n",
       "</div>"
      ],
      "text/plain": [
       "    Year  Counts  Avg_Magnitude  Max_Magnitude\n",
       "27  1965     156       6.009615            8.7\n",
       "17  1966      98       6.060714            7.7\n",
       "21  1967     103       5.962136            7.2\n",
       "13  1968     106       6.070755            7.6\n",
       "22  1969     114       6.015789            7.5"
      ]
     },
     "execution_count": 54,
     "metadata": {},
     "output_type": "execute_result"
    }
   ],
   "source": [
    "df_quake_freq = df_quake_freq.sort_values('Year')\n",
    "df_quake_freq.head(5)"
   ]
  },
  {
   "cell_type": "code",
   "execution_count": 55,
   "metadata": {},
   "outputs": [
    {
     "data": {
      "text/html": [
       "<div>\n",
       "<style scoped>\n",
       "    .dataframe tbody tr th:only-of-type {\n",
       "        vertical-align: middle;\n",
       "    }\n",
       "\n",
       "    .dataframe tbody tr th {\n",
       "        vertical-align: top;\n",
       "    }\n",
       "\n",
       "    .dataframe thead th {\n",
       "        text-align: right;\n",
       "    }\n",
       "</style>\n",
       "<table border=\"1\" class=\"dataframe\">\n",
       "  <thead>\n",
       "    <tr style=\"text-align: right;\">\n",
       "      <th></th>\n",
       "      <th>Latitude</th>\n",
       "      <th>Longitude</th>\n",
       "      <th>Pred_Magnitude</th>\n",
       "      <th>Year</th>\n",
       "      <th>RMSE</th>\n",
       "    </tr>\n",
       "  </thead>\n",
       "  <tbody>\n",
       "    <tr>\n",
       "      <th>0</th>\n",
       "      <td>-36.0365</td>\n",
       "      <td>51.9288</td>\n",
       "      <td>5.834360</td>\n",
       "      <td>2017</td>\n",
       "      <td>0.401192</td>\n",
       "    </tr>\n",
       "    <tr>\n",
       "      <th>269</th>\n",
       "      <td>-5.0845</td>\n",
       "      <td>147.8270</td>\n",
       "      <td>5.890987</td>\n",
       "      <td>2017</td>\n",
       "      <td>0.401192</td>\n",
       "    </tr>\n",
       "    <tr>\n",
       "      <th>268</th>\n",
       "      <td>-18.7854</td>\n",
       "      <td>169.0946</td>\n",
       "      <td>5.905093</td>\n",
       "      <td>2017</td>\n",
       "      <td>0.401192</td>\n",
       "    </tr>\n",
       "  </tbody>\n",
       "</table>\n",
       "</div>"
      ],
      "text/plain": [
       "     Latitude  Longitude  Pred_Magnitude  Year      RMSE\n",
       "0    -36.0365    51.9288        5.834360  2017  0.401192\n",
       "269   -5.0845   147.8270        5.890987  2017  0.401192\n",
       "268  -18.7854   169.0946        5.905093  2017  0.401192"
      ]
     },
     "execution_count": 55,
     "metadata": {},
     "output_type": "execute_result"
    }
   ],
   "source": [
    "df_quake_pred = df_quake_pred.sort_values('Year')\n",
    "df_quake_pred.head(3)"
   ]
  },
  {
   "cell_type": "code",
   "execution_count": 56,
   "metadata": {},
   "outputs": [
    {
     "data": {
      "text/html": [
       "<div>\n",
       "<style scoped>\n",
       "    .dataframe tbody tr th:only-of-type {\n",
       "        vertical-align: middle;\n",
       "    }\n",
       "\n",
       "    .dataframe tbody tr th {\n",
       "        vertical-align: top;\n",
       "    }\n",
       "\n",
       "    .dataframe thead th {\n",
       "        text-align: right;\n",
       "    }\n",
       "</style>\n",
       "<table border=\"1\" class=\"dataframe\">\n",
       "  <thead>\n",
       "    <tr style=\"text-align: right;\">\n",
       "      <th></th>\n",
       "      <th>Date</th>\n",
       "      <th>Latitude</th>\n",
       "      <th>Longitude</th>\n",
       "      <th>Type</th>\n",
       "      <th>Depth</th>\n",
       "      <th>Magnitude</th>\n",
       "      <th>Magnitude Type</th>\n",
       "      <th>ID</th>\n",
       "      <th>Year</th>\n",
       "    </tr>\n",
       "  </thead>\n",
       "  <tbody>\n",
       "    <tr>\n",
       "      <th>23280</th>\n",
       "      <td>10/04/2016</td>\n",
       "      <td>27.851900</td>\n",
       "      <td>141.944200</td>\n",
       "      <td>Earthquake</td>\n",
       "      <td>35.00</td>\n",
       "      <td>5.70</td>\n",
       "      <td>MWW</td>\n",
       "      <td>USD0007JX3</td>\n",
       "      <td>2016.0</td>\n",
       "    </tr>\n",
       "    <tr>\n",
       "      <th>23241</th>\n",
       "      <td>09/01/2016</td>\n",
       "      <td>-37.317600</td>\n",
       "      <td>178.714800</td>\n",
       "      <td>Earthquake</td>\n",
       "      <td>10.00</td>\n",
       "      <td>5.50</td>\n",
       "      <td>MB</td>\n",
       "      <td>US10006JFZ</td>\n",
       "      <td>2016.0</td>\n",
       "    </tr>\n",
       "    <tr>\n",
       "      <th>23242</th>\n",
       "      <td>09/02/2016</td>\n",
       "      <td>-55.329500</td>\n",
       "      <td>-30.917900</td>\n",
       "      <td>Earthquake</td>\n",
       "      <td>8.00</td>\n",
       "      <td>5.50</td>\n",
       "      <td>MWB</td>\n",
       "      <td>US10006JJ6</td>\n",
       "      <td>2016.0</td>\n",
       "    </tr>\n",
       "    <tr>\n",
       "      <th>23243</th>\n",
       "      <td>09/02/2016</td>\n",
       "      <td>-19.500200</td>\n",
       "      <td>-173.705900</td>\n",
       "      <td>Earthquake</td>\n",
       "      <td>10.00</td>\n",
       "      <td>5.50</td>\n",
       "      <td>MWB</td>\n",
       "      <td>US10006JMT</td>\n",
       "      <td>2016.0</td>\n",
       "    </tr>\n",
       "    <tr>\n",
       "      <th>23244</th>\n",
       "      <td>09/03/2016</td>\n",
       "      <td>40.320833</td>\n",
       "      <td>-125.687667</td>\n",
       "      <td>Earthquake</td>\n",
       "      <td>28.57</td>\n",
       "      <td>5.64</td>\n",
       "      <td>MW</td>\n",
       "      <td>NC72689331</td>\n",
       "      <td>2016.0</td>\n",
       "    </tr>\n",
       "  </tbody>\n",
       "</table>\n",
       "</div>"
      ],
      "text/plain": [
       "             Date   Latitude   Longitude        Type  Depth  Magnitude  \\\n",
       "23280  10/04/2016  27.851900  141.944200  Earthquake  35.00       5.70   \n",
       "23241  09/01/2016 -37.317600  178.714800  Earthquake  10.00       5.50   \n",
       "23242  09/02/2016 -55.329500  -30.917900  Earthquake   8.00       5.50   \n",
       "23243  09/02/2016 -19.500200 -173.705900  Earthquake  10.00       5.50   \n",
       "23244  09/03/2016  40.320833 -125.687667  Earthquake  28.57       5.64   \n",
       "\n",
       "      Magnitude Type          ID    Year  \n",
       "23280            MWW  USD0007JX3  2016.0  \n",
       "23241             MB  US10006JFZ  2016.0  \n",
       "23242            MWB  US10006JJ6  2016.0  \n",
       "23243            MWB  US10006JMT  2016.0  \n",
       "23244             MW  NC72689331  2016.0  "
      ]
     },
     "execution_count": 56,
     "metadata": {},
     "output_type": "execute_result"
    }
   ],
   "source": [
    "# We create one dataframe that content only the quakes of 2016\n",
    "df_quakes_2016 = df_quakes[df_quakes['Year'] == 2016]\n",
    "df_quakes_2016.head()"
   ]
  },
  {
   "cell_type": "code",
   "execution_count": 57,
   "metadata": {},
   "outputs": [
    {
     "data": {
      "text/html": [
       "\n",
       "    <div class=\"bk-root\">\n",
       "        <a href=\"https://bokeh.org\" target=\"_blank\" class=\"bk-logo bk-logo-small bk-logo-notebook\"></a>\n",
       "        <span id=\"1001\">Loading BokehJS ...</span>\n",
       "    </div>"
      ]
     },
     "metadata": {},
     "output_type": "display_data"
    },
    {
     "data": {
      "application/javascript": [
       "\n",
       "(function(root) {\n",
       "  function now() {\n",
       "    return new Date();\n",
       "  }\n",
       "\n",
       "  var force = true;\n",
       "\n",
       "  if (typeof root._bokeh_onload_callbacks === \"undefined\" || force === true) {\n",
       "    root._bokeh_onload_callbacks = [];\n",
       "    root._bokeh_is_loading = undefined;\n",
       "  }\n",
       "\n",
       "  var JS_MIME_TYPE = 'application/javascript';\n",
       "  var HTML_MIME_TYPE = 'text/html';\n",
       "  var EXEC_MIME_TYPE = 'application/vnd.bokehjs_exec.v0+json';\n",
       "  var CLASS_NAME = 'output_bokeh rendered_html';\n",
       "\n",
       "  /**\n",
       "   * Render data to the DOM node\n",
       "   */\n",
       "  function render(props, node) {\n",
       "    var script = document.createElement(\"script\");\n",
       "    node.appendChild(script);\n",
       "  }\n",
       "\n",
       "  /**\n",
       "   * Handle when an output is cleared or removed\n",
       "   */\n",
       "  function handleClearOutput(event, handle) {\n",
       "    var cell = handle.cell;\n",
       "\n",
       "    var id = cell.output_area._bokeh_element_id;\n",
       "    var server_id = cell.output_area._bokeh_server_id;\n",
       "    // Clean up Bokeh references\n",
       "    if (id != null && id in Bokeh.index) {\n",
       "      Bokeh.index[id].model.document.clear();\n",
       "      delete Bokeh.index[id];\n",
       "    }\n",
       "\n",
       "    if (server_id !== undefined) {\n",
       "      // Clean up Bokeh references\n",
       "      var cmd = \"from bokeh.io.state import curstate; print(curstate().uuid_to_server['\" + server_id + \"'].get_sessions()[0].document.roots[0]._id)\";\n",
       "      cell.notebook.kernel.execute(cmd, {\n",
       "        iopub: {\n",
       "          output: function(msg) {\n",
       "            var id = msg.content.text.trim();\n",
       "            if (id in Bokeh.index) {\n",
       "              Bokeh.index[id].model.document.clear();\n",
       "              delete Bokeh.index[id];\n",
       "            }\n",
       "          }\n",
       "        }\n",
       "      });\n",
       "      // Destroy server and session\n",
       "      var cmd = \"import bokeh.io.notebook as ion; ion.destroy_server('\" + server_id + \"')\";\n",
       "      cell.notebook.kernel.execute(cmd);\n",
       "    }\n",
       "  }\n",
       "\n",
       "  /**\n",
       "   * Handle when a new output is added\n",
       "   */\n",
       "  function handleAddOutput(event, handle) {\n",
       "    var output_area = handle.output_area;\n",
       "    var output = handle.output;\n",
       "\n",
       "    // limit handleAddOutput to display_data with EXEC_MIME_TYPE content only\n",
       "    if ((output.output_type != \"display_data\") || (!output.data.hasOwnProperty(EXEC_MIME_TYPE))) {\n",
       "      return\n",
       "    }\n",
       "\n",
       "    var toinsert = output_area.element.find(\".\" + CLASS_NAME.split(' ')[0]);\n",
       "\n",
       "    if (output.metadata[EXEC_MIME_TYPE][\"id\"] !== undefined) {\n",
       "      toinsert[toinsert.length - 1].firstChild.textContent = output.data[JS_MIME_TYPE];\n",
       "      // store reference to embed id on output_area\n",
       "      output_area._bokeh_element_id = output.metadata[EXEC_MIME_TYPE][\"id\"];\n",
       "    }\n",
       "    if (output.metadata[EXEC_MIME_TYPE][\"server_id\"] !== undefined) {\n",
       "      var bk_div = document.createElement(\"div\");\n",
       "      bk_div.innerHTML = output.data[HTML_MIME_TYPE];\n",
       "      var script_attrs = bk_div.children[0].attributes;\n",
       "      for (var i = 0; i < script_attrs.length; i++) {\n",
       "        toinsert[toinsert.length - 1].firstChild.setAttribute(script_attrs[i].name, script_attrs[i].value);\n",
       "        toinsert[toinsert.length - 1].firstChild.textContent = bk_div.children[0].textContent\n",
       "      }\n",
       "      // store reference to server id on output_area\n",
       "      output_area._bokeh_server_id = output.metadata[EXEC_MIME_TYPE][\"server_id\"];\n",
       "    }\n",
       "  }\n",
       "\n",
       "  function register_renderer(events, OutputArea) {\n",
       "\n",
       "    function append_mime(data, metadata, element) {\n",
       "      // create a DOM node to render to\n",
       "      var toinsert = this.create_output_subarea(\n",
       "        metadata,\n",
       "        CLASS_NAME,\n",
       "        EXEC_MIME_TYPE\n",
       "      );\n",
       "      this.keyboard_manager.register_events(toinsert);\n",
       "      // Render to node\n",
       "      var props = {data: data, metadata: metadata[EXEC_MIME_TYPE]};\n",
       "      render(props, toinsert[toinsert.length - 1]);\n",
       "      element.append(toinsert);\n",
       "      return toinsert\n",
       "    }\n",
       "\n",
       "    /* Handle when an output is cleared or removed */\n",
       "    events.on('clear_output.CodeCell', handleClearOutput);\n",
       "    events.on('delete.Cell', handleClearOutput);\n",
       "\n",
       "    /* Handle when a new output is added */\n",
       "    events.on('output_added.OutputArea', handleAddOutput);\n",
       "\n",
       "    /**\n",
       "     * Register the mime type and append_mime function with output_area\n",
       "     */\n",
       "    OutputArea.prototype.register_mime_type(EXEC_MIME_TYPE, append_mime, {\n",
       "      /* Is output safe? */\n",
       "      safe: true,\n",
       "      /* Index of renderer in `output_area.display_order` */\n",
       "      index: 0\n",
       "    });\n",
       "  }\n",
       "\n",
       "  // register the mime type if in Jupyter Notebook environment and previously unregistered\n",
       "  if (root.Jupyter !== undefined) {\n",
       "    var events = require('base/js/events');\n",
       "    var OutputArea = require('notebook/js/outputarea').OutputArea;\n",
       "\n",
       "    if (OutputArea.prototype.mime_types().indexOf(EXEC_MIME_TYPE) == -1) {\n",
       "      register_renderer(events, OutputArea);\n",
       "    }\n",
       "  }\n",
       "\n",
       "  \n",
       "  if (typeof (root._bokeh_timeout) === \"undefined\" || force === true) {\n",
       "    root._bokeh_timeout = Date.now() + 5000;\n",
       "    root._bokeh_failed_load = false;\n",
       "  }\n",
       "\n",
       "  var NB_LOAD_WARNING = {'data': {'text/html':\n",
       "     \"<div style='background-color: #fdd'>\\n\"+\n",
       "     \"<p>\\n\"+\n",
       "     \"BokehJS does not appear to have successfully loaded. If loading BokehJS from CDN, this \\n\"+\n",
       "     \"may be due to a slow or bad network connection. Possible fixes:\\n\"+\n",
       "     \"</p>\\n\"+\n",
       "     \"<ul>\\n\"+\n",
       "     \"<li>re-rerun `output_notebook()` to attempt to load from CDN again, or</li>\\n\"+\n",
       "     \"<li>use INLINE resources instead, as so:</li>\\n\"+\n",
       "     \"</ul>\\n\"+\n",
       "     \"<code>\\n\"+\n",
       "     \"from bokeh.resources import INLINE\\n\"+\n",
       "     \"output_notebook(resources=INLINE)\\n\"+\n",
       "     \"</code>\\n\"+\n",
       "     \"</div>\"}};\n",
       "\n",
       "  function display_loaded() {\n",
       "    var el = document.getElementById(\"1001\");\n",
       "    if (el != null) {\n",
       "      el.textContent = \"BokehJS is loading...\";\n",
       "    }\n",
       "    if (root.Bokeh !== undefined) {\n",
       "      if (el != null) {\n",
       "        el.textContent = \"BokehJS \" + root.Bokeh.version + \" successfully loaded.\";\n",
       "      }\n",
       "    } else if (Date.now() < root._bokeh_timeout) {\n",
       "      setTimeout(display_loaded, 100)\n",
       "    }\n",
       "  }\n",
       "\n",
       "\n",
       "  function run_callbacks() {\n",
       "    try {\n",
       "      root._bokeh_onload_callbacks.forEach(function(callback) {\n",
       "        if (callback != null)\n",
       "          callback();\n",
       "      });\n",
       "    } finally {\n",
       "      delete root._bokeh_onload_callbacks\n",
       "    }\n",
       "    console.debug(\"Bokeh: all callbacks have finished\");\n",
       "  }\n",
       "\n",
       "  function load_libs(css_urls, js_urls, callback) {\n",
       "    if (css_urls == null) css_urls = [];\n",
       "    if (js_urls == null) js_urls = [];\n",
       "\n",
       "    root._bokeh_onload_callbacks.push(callback);\n",
       "    if (root._bokeh_is_loading > 0) {\n",
       "      console.debug(\"Bokeh: BokehJS is being loaded, scheduling callback at\", now());\n",
       "      return null;\n",
       "    }\n",
       "    if (js_urls == null || js_urls.length === 0) {\n",
       "      run_callbacks();\n",
       "      return null;\n",
       "    }\n",
       "    console.debug(\"Bokeh: BokehJS not loaded, scheduling load and callback at\", now());\n",
       "    root._bokeh_is_loading = css_urls.length + js_urls.length;\n",
       "\n",
       "    function on_load() {\n",
       "      root._bokeh_is_loading--;\n",
       "      if (root._bokeh_is_loading === 0) {\n",
       "        console.debug(\"Bokeh: all BokehJS libraries/stylesheets loaded\");\n",
       "        run_callbacks()\n",
       "      }\n",
       "    }\n",
       "\n",
       "    function on_error() {\n",
       "      console.error(\"failed to load \" + url);\n",
       "    }\n",
       "\n",
       "    for (var i = 0; i < css_urls.length; i++) {\n",
       "      var url = css_urls[i];\n",
       "      const element = document.createElement(\"link\");\n",
       "      element.onload = on_load;\n",
       "      element.onerror = on_error;\n",
       "      element.rel = \"stylesheet\";\n",
       "      element.type = \"text/css\";\n",
       "      element.href = url;\n",
       "      console.debug(\"Bokeh: injecting link tag for BokehJS stylesheet: \", url);\n",
       "      document.body.appendChild(element);\n",
       "    }\n",
       "\n",
       "    const hashes = {\"https://cdn.bokeh.org/bokeh/release/bokeh-2.1.1.min.js\": \"kLr4fYcqcSpbuI95brIH3vnnYCquzzSxHPU6XGQCIkQRGJwhg0StNbj1eegrHs12\", \"https://cdn.bokeh.org/bokeh/release/bokeh-widgets-2.1.1.min.js\": \"xIGPmVtaOm+z0BqfSOMn4lOR6ciex448GIKG4eE61LsAvmGj48XcMQZtKcE/UXZe\", \"https://cdn.bokeh.org/bokeh/release/bokeh-tables-2.1.1.min.js\": \"Dc9u1wF/0zApGIWoBbH77iWEHtdmkuYWG839Uzmv8y8yBLXebjO9ZnERsde5Ln/P\", \"https://cdn.bokeh.org/bokeh/release/bokeh-gl-2.1.1.min.js\": \"cT9JaBz7GiRXdENrJLZNSC6eMNF3nh3fa5fTF51Svp+ukxPdwcU5kGXGPBgDCa2j\"};\n",
       "\n",
       "    for (var i = 0; i < js_urls.length; i++) {\n",
       "      var url = js_urls[i];\n",
       "      var element = document.createElement('script');\n",
       "      element.onload = on_load;\n",
       "      element.onerror = on_error;\n",
       "      element.async = false;\n",
       "      element.src = url;\n",
       "      if (url in hashes) {\n",
       "        element.crossOrigin = \"anonymous\";\n",
       "        element.integrity = \"sha384-\" + hashes[url];\n",
       "      }\n",
       "      console.debug(\"Bokeh: injecting script tag for BokehJS library: \", url);\n",
       "      document.head.appendChild(element);\n",
       "    }\n",
       "  };\n",
       "\n",
       "  function inject_raw_css(css) {\n",
       "    const element = document.createElement(\"style\");\n",
       "    element.appendChild(document.createTextNode(css));\n",
       "    document.body.appendChild(element);\n",
       "  }\n",
       "\n",
       "  \n",
       "  var js_urls = [\"https://cdn.bokeh.org/bokeh/release/bokeh-2.1.1.min.js\", \"https://cdn.bokeh.org/bokeh/release/bokeh-widgets-2.1.1.min.js\", \"https://cdn.bokeh.org/bokeh/release/bokeh-tables-2.1.1.min.js\", \"https://cdn.bokeh.org/bokeh/release/bokeh-gl-2.1.1.min.js\"];\n",
       "  var css_urls = [];\n",
       "  \n",
       "\n",
       "  var inline_js = [\n",
       "    function(Bokeh) {\n",
       "      Bokeh.set_log_level(\"info\");\n",
       "    },\n",
       "    function(Bokeh) {\n",
       "    \n",
       "    \n",
       "    }\n",
       "  ];\n",
       "\n",
       "  function run_inline_js() {\n",
       "    \n",
       "    if (root.Bokeh !== undefined || force === true) {\n",
       "      \n",
       "    for (var i = 0; i < inline_js.length; i++) {\n",
       "      inline_js[i].call(root, root.Bokeh);\n",
       "    }\n",
       "    if (force === true) {\n",
       "        display_loaded();\n",
       "      }} else if (Date.now() < root._bokeh_timeout) {\n",
       "      setTimeout(run_inline_js, 100);\n",
       "    } else if (!root._bokeh_failed_load) {\n",
       "      console.log(\"Bokeh: BokehJS failed to load within specified timeout.\");\n",
       "      root._bokeh_failed_load = true;\n",
       "    } else if (force !== true) {\n",
       "      var cell = $(document.getElementById(\"1001\")).parents('.cell').data().cell;\n",
       "      cell.output_area.append_execute_result(NB_LOAD_WARNING)\n",
       "    }\n",
       "\n",
       "  }\n",
       "\n",
       "  if (root._bokeh_is_loading === 0) {\n",
       "    console.debug(\"Bokeh: BokehJS loaded, going straight to plotting\");\n",
       "    run_inline_js();\n",
       "  } else {\n",
       "    load_libs(css_urls, js_urls, function() {\n",
       "      console.debug(\"Bokeh: BokehJS plotting callback run at\", now());\n",
       "      run_inline_js();\n",
       "    });\n",
       "  }\n",
       "}(window));"
      ],
      "application/vnd.bokehjs_load.v0+json": "\n(function(root) {\n  function now() {\n    return new Date();\n  }\n\n  var force = true;\n\n  if (typeof root._bokeh_onload_callbacks === \"undefined\" || force === true) {\n    root._bokeh_onload_callbacks = [];\n    root._bokeh_is_loading = undefined;\n  }\n\n  \n\n  \n  if (typeof (root._bokeh_timeout) === \"undefined\" || force === true) {\n    root._bokeh_timeout = Date.now() + 5000;\n    root._bokeh_failed_load = false;\n  }\n\n  var NB_LOAD_WARNING = {'data': {'text/html':\n     \"<div style='background-color: #fdd'>\\n\"+\n     \"<p>\\n\"+\n     \"BokehJS does not appear to have successfully loaded. If loading BokehJS from CDN, this \\n\"+\n     \"may be due to a slow or bad network connection. Possible fixes:\\n\"+\n     \"</p>\\n\"+\n     \"<ul>\\n\"+\n     \"<li>re-rerun `output_notebook()` to attempt to load from CDN again, or</li>\\n\"+\n     \"<li>use INLINE resources instead, as so:</li>\\n\"+\n     \"</ul>\\n\"+\n     \"<code>\\n\"+\n     \"from bokeh.resources import INLINE\\n\"+\n     \"output_notebook(resources=INLINE)\\n\"+\n     \"</code>\\n\"+\n     \"</div>\"}};\n\n  function display_loaded() {\n    var el = document.getElementById(\"1001\");\n    if (el != null) {\n      el.textContent = \"BokehJS is loading...\";\n    }\n    if (root.Bokeh !== undefined) {\n      if (el != null) {\n        el.textContent = \"BokehJS \" + root.Bokeh.version + \" successfully loaded.\";\n      }\n    } else if (Date.now() < root._bokeh_timeout) {\n      setTimeout(display_loaded, 100)\n    }\n  }\n\n\n  function run_callbacks() {\n    try {\n      root._bokeh_onload_callbacks.forEach(function(callback) {\n        if (callback != null)\n          callback();\n      });\n    } finally {\n      delete root._bokeh_onload_callbacks\n    }\n    console.debug(\"Bokeh: all callbacks have finished\");\n  }\n\n  function load_libs(css_urls, js_urls, callback) {\n    if (css_urls == null) css_urls = [];\n    if (js_urls == null) js_urls = [];\n\n    root._bokeh_onload_callbacks.push(callback);\n    if (root._bokeh_is_loading > 0) {\n      console.debug(\"Bokeh: BokehJS is being loaded, scheduling callback at\", now());\n      return null;\n    }\n    if (js_urls == null || js_urls.length === 0) {\n      run_callbacks();\n      return null;\n    }\n    console.debug(\"Bokeh: BokehJS not loaded, scheduling load and callback at\", now());\n    root._bokeh_is_loading = css_urls.length + js_urls.length;\n\n    function on_load() {\n      root._bokeh_is_loading--;\n      if (root._bokeh_is_loading === 0) {\n        console.debug(\"Bokeh: all BokehJS libraries/stylesheets loaded\");\n        run_callbacks()\n      }\n    }\n\n    function on_error() {\n      console.error(\"failed to load \" + url);\n    }\n\n    for (var i = 0; i < css_urls.length; i++) {\n      var url = css_urls[i];\n      const element = document.createElement(\"link\");\n      element.onload = on_load;\n      element.onerror = on_error;\n      element.rel = \"stylesheet\";\n      element.type = \"text/css\";\n      element.href = url;\n      console.debug(\"Bokeh: injecting link tag for BokehJS stylesheet: \", url);\n      document.body.appendChild(element);\n    }\n\n    const hashes = {\"https://cdn.bokeh.org/bokeh/release/bokeh-2.1.1.min.js\": \"kLr4fYcqcSpbuI95brIH3vnnYCquzzSxHPU6XGQCIkQRGJwhg0StNbj1eegrHs12\", \"https://cdn.bokeh.org/bokeh/release/bokeh-widgets-2.1.1.min.js\": \"xIGPmVtaOm+z0BqfSOMn4lOR6ciex448GIKG4eE61LsAvmGj48XcMQZtKcE/UXZe\", \"https://cdn.bokeh.org/bokeh/release/bokeh-tables-2.1.1.min.js\": \"Dc9u1wF/0zApGIWoBbH77iWEHtdmkuYWG839Uzmv8y8yBLXebjO9ZnERsde5Ln/P\", \"https://cdn.bokeh.org/bokeh/release/bokeh-gl-2.1.1.min.js\": \"cT9JaBz7GiRXdENrJLZNSC6eMNF3nh3fa5fTF51Svp+ukxPdwcU5kGXGPBgDCa2j\"};\n\n    for (var i = 0; i < js_urls.length; i++) {\n      var url = js_urls[i];\n      var element = document.createElement('script');\n      element.onload = on_load;\n      element.onerror = on_error;\n      element.async = false;\n      element.src = url;\n      if (url in hashes) {\n        element.crossOrigin = \"anonymous\";\n        element.integrity = \"sha384-\" + hashes[url];\n      }\n      console.debug(\"Bokeh: injecting script tag for BokehJS library: \", url);\n      document.head.appendChild(element);\n    }\n  };\n\n  function inject_raw_css(css) {\n    const element = document.createElement(\"style\");\n    element.appendChild(document.createTextNode(css));\n    document.body.appendChild(element);\n  }\n\n  \n  var js_urls = [\"https://cdn.bokeh.org/bokeh/release/bokeh-2.1.1.min.js\", \"https://cdn.bokeh.org/bokeh/release/bokeh-widgets-2.1.1.min.js\", \"https://cdn.bokeh.org/bokeh/release/bokeh-tables-2.1.1.min.js\", \"https://cdn.bokeh.org/bokeh/release/bokeh-gl-2.1.1.min.js\"];\n  var css_urls = [];\n  \n\n  var inline_js = [\n    function(Bokeh) {\n      Bokeh.set_log_level(\"info\");\n    },\n    function(Bokeh) {\n    \n    \n    }\n  ];\n\n  function run_inline_js() {\n    \n    if (root.Bokeh !== undefined || force === true) {\n      \n    for (var i = 0; i < inline_js.length; i++) {\n      inline_js[i].call(root, root.Bokeh);\n    }\n    if (force === true) {\n        display_loaded();\n      }} else if (Date.now() < root._bokeh_timeout) {\n      setTimeout(run_inline_js, 100);\n    } else if (!root._bokeh_failed_load) {\n      console.log(\"Bokeh: BokehJS failed to load within specified timeout.\");\n      root._bokeh_failed_load = true;\n    } else if (force !== true) {\n      var cell = $(document.getElementById(\"1001\")).parents('.cell').data().cell;\n      cell.output_area.append_execute_result(NB_LOAD_WARNING)\n    }\n\n  }\n\n  if (root._bokeh_is_loading === 0) {\n    console.debug(\"Bokeh: BokehJS loaded, going straight to plotting\");\n    run_inline_js();\n  } else {\n    load_libs(css_urls, js_urls, function() {\n      console.debug(\"Bokeh: BokehJS plotting callback run at\", now());\n      run_inline_js();\n    });\n  }\n}(window));"
     },
     "metadata": {},
     "output_type": "display_data"
    }
   ],
   "source": [
    "# Show plots embedded in jupyter notebook\n",
    "output_notebook()"
   ]
  },
  {
   "cell_type": "code",
   "execution_count": 58,
   "metadata": {},
   "outputs": [],
   "source": [
    "# Create custom style function to style our plots\n",
    "def style(p):\n",
    "    # Title\n",
    "    p.title.align='center'\n",
    "    p.title.text_font_size='20pt'\n",
    "    p.title.text_font='serif'\n",
    "    \n",
    "    # Axis titles\n",
    "    p.xaxis.axis_label_text_font_size='14pt'\n",
    "    p.xaxis.axis_label_text_font_style='bold'\n",
    "    p.yaxis.axis_label_text_font_size='14pt'\n",
    "    p.yaxis.axis_label_text_font_style='bold'\n",
    "    \n",
    "    # Tick labels\n",
    "    p.xaxis.major_label_text_font_size='12pt'\n",
    "    p.yaxis.major_label_text_font_size='12pt'\n",
    "    \n",
    "    # Plot the legend in the top left corner\n",
    "    p.legend.location='top_left'\n",
    "    \n",
    "    return p"
   ]
  },
  {
   "cell_type": "code",
   "execution_count": 59,
   "metadata": {},
   "outputs": [],
   "source": [
    "# Create one function for the Geo Map plot\n",
    "def plotMap():\n",
    "    lat = df_quakes_2016['Latitude'].values.tolist()\n",
    "    lon = df_quakes_2016['Longitude'].values.tolist()\n",
    "    \n",
    "    pred_lat = df_quake_pred['Latitude'].values.tolist()\n",
    "    pred_lon = df_quake_pred['Longitude'].values.tolist()\n",
    "    \n",
    "    lst_lat = []\n",
    "    lst_lon = []\n",
    "    lst_pred_lat = []\n",
    "    lst_pred_lon = []\n",
    "    \n",
    "    # Convert Lat and Long values into merc_projection format\n",
    "    for i in range(len(lon)):\n",
    "        r_major = 6378137.000\n",
    "        x = r_major * math.radians(lon[i])\n",
    "        scale = x/lon[i]\n",
    "        y = 180.0/math.pi * math.log(math.tan(math.pi/4.0 +\n",
    "            lat[i] * (math.pi/180.0)/2.0)) * scale\n",
    "        \n",
    "        lst_lon.append(x)\n",
    "        lst_lat.append(y)\n",
    "        \n",
    "    # Convert predicted lat and long values into merc_projection format\n",
    "    for j in range(len(pred_lon)):\n",
    "        r_major = 6378137.000\n",
    "        x = r_major * math.radians(pred_lon[j])\n",
    "        scale = x/pred_lon[j]\n",
    "        y = 180.0/math.pi * math.log(math.tan(math.pi/4.0 +\n",
    "            pred_lat[j] * (math.pi/180.0)/2.0)) * scale\n",
    "        \n",
    "        lst_pred_lon.append(x)\n",
    "        lst_pred_lat.append(y)\n",
    "    \n",
    "    \n",
    "    df_quakes_2016['coords_x'] = lst_lat\n",
    "    df_quakes_2016['coords_y'] = lst_lon\n",
    "    df_quake_pred['coords_x'] = lst_pred_lat\n",
    "    df_quake_pred['coords_y'] = lst_pred_lon\n",
    "    \n",
    "    # Scale the circles\n",
    "    df_quakes_2016['Mag_Size'] = df_quakes_2016['Magnitude'] * 4\n",
    "    df_quake_pred['Mag_Size'] = df_quake_pred['Pred_Magnitude'] * 4\n",
    "    \n",
    "    # create datasources for our ColumnDataSource object\n",
    "    lats = df_quakes_2016['coords_x'].tolist()\n",
    "    longs = df_quakes_2016['coords_y'].tolist()\n",
    "    mags = df_quakes_2016['Magnitude'].tolist()\n",
    "    years = df_quakes_2016['Year'].tolist()\n",
    "    mag_size = df_quakes_2016['Mag_Size'].tolist()\n",
    "    \n",
    "    pred_lats = df_quake_pred['coords_x'].tolist()\n",
    "    pred_longs = df_quake_pred['coords_y'].tolist()\n",
    "    pred_mags = df_quake_pred['Pred_Magnitude'].tolist()\n",
    "    pred_year = df_quake_pred['Year'].tolist()\n",
    "    pred_mag_size = df_quake_pred['Mag_Size'].tolist()\n",
    "    \n",
    "    # Create column datasource\n",
    "    cds = ColumnDataSource(\n",
    "        data=dict(\n",
    "            lat=lats,\n",
    "            lon=longs,\n",
    "            mag=mags,\n",
    "            year=years,\n",
    "            mag_s=mag_size\n",
    "        )\n",
    "    )\n",
    "    \n",
    "    pred_cds = ColumnDataSource(\n",
    "        data=dict(\n",
    "            pred_lat=pred_lats,\n",
    "            pred_long=pred_longs,\n",
    "            pred_mag=pred_mags,\n",
    "            year=pred_year,\n",
    "            pred_mag_s=pred_mag_size\n",
    "        )\n",
    "    )\n",
    "    \n",
    "    # Tooltips\n",
    "    TOOLTIPS = [\n",
    "        (\"Year\", \" @year\"),\n",
    "        (\"Magnitude\", \" @mag\"),\n",
    "        (\"Predicted Magnitude\", \" @pred_mag\")\n",
    "    ]\n",
    "    \n",
    "    tile_provider = get_provider(CARTODBPOSITRON)\n",
    "\n",
    "    \n",
    "    # Create figure\n",
    "    p = figure(title='Earthquake Map',\n",
    "              plot_width=2300, plot_height=450,\n",
    "              x_range=(-2000000, 6000000),\n",
    "              y_range=(-1000000, 7000000),\n",
    "              tooltips=TOOLTIPS)\n",
    "    \n",
    "    p.circle(x='lon', y='lat', size='mag_s', fill_color='#cc0000', fill_alpha=0.7,\n",
    "            source=cds, legend_label='Quakes 2016')\n",
    "    \n",
    "    # Add circles for our predicted earthquakes\n",
    "    p.circle(x='pred_long', y='pred_lat', size='pred_mag_s', fill_color='#ccff33', fill_alpha=7.0,\n",
    "            source=pred_cds, legend_label='Predicted Quakes 2017')\n",
    "    \n",
    "    # p.add_tile(CARTODBPOSITRON)\n",
    "    p.add_tile(tile_provider)\n",
    "    \n",
    "    # Style the map plot\n",
    "    p.title.align='center'\n",
    "    p.title.text_font_size='20pt'\n",
    "    p.title.text_font='serif'\n",
    "    \n",
    "    # Legend\n",
    "    p.legend.location='bottom_right'\n",
    "    p.legend.background_fill_color='black'\n",
    "    p.legend.background_fill_alpha=0.8\n",
    "    p.legend.click_policy='hide'\n",
    "    p.legend.label_text_color='white'\n",
    "    p.xaxis.visible=False\n",
    "    p.yaxis.visible=False\n",
    "    p.axis.axis_label=None\n",
    "    p.axis.visible=False\n",
    "    p.grid.grid_line_color=None\n",
    "    \n",
    "    \n",
    "    #show(p)\n",
    "    \n",
    "    return p\n",
    "    \n",
    "    \n",
    "# plotMap()"
   ]
  },
  {
   "cell_type": "code",
   "execution_count": 60,
   "metadata": {},
   "outputs": [],
   "source": [
    "# Create the Bar Chart\n",
    "def plotBar():\n",
    "    # Load the datasource \n",
    "    cds = ColumnDataSource(data=dict(\n",
    "        yrs = df_quake_freq['Year'].values.tolist(),\n",
    "        numQuakes = df_quake_freq['Counts'].values.tolist()\n",
    "    ))\n",
    "    \n",
    "    # Tooltip\n",
    "    TOOLTIPS = [\n",
    "        ('Year', ' @yrs'),\n",
    "        ('Number of earthquakes', ' @numQuakes')\n",
    "    ]\n",
    "    \n",
    "    # Create a figure\n",
    "    barChart = figure(title='Frequency of Earthquakes by Year',\n",
    "                     plot_height=400,\n",
    "                     plot_width=1150,\n",
    "                     x_axis_label='Years',\n",
    "                     y_axis_label='Number of Occurances',\n",
    "                     x_minor_ticks=2,\n",
    "                     y_range=(0, df_quake_freq['Counts'].max() + 100),\n",
    "                     toolbar_location=None,\n",
    "                     tooltips=TOOLTIPS)\n",
    "    \n",
    "    # Create a vertical bar \n",
    "    barChart.vbar(x='yrs', bottom=0, top='numQuakes',\n",
    "                 color='#cc0000', width=0.75,\n",
    "                 legend_label='Year', source=cds)\n",
    "    \n",
    "    # Style the bar chart\n",
    "    barChart = style(barChart)\n",
    "    \n",
    "    #show(barChart)\n",
    "    \n",
    "    return barChart\n",
    "\n",
    "#plotBar()"
   ]
  },
  {
   "cell_type": "code",
   "execution_count": 61,
   "metadata": {},
   "outputs": [
    {
     "data": {
      "text/html": [
       "<div>\n",
       "<style scoped>\n",
       "    .dataframe tbody tr th:only-of-type {\n",
       "        vertical-align: middle;\n",
       "    }\n",
       "\n",
       "    .dataframe tbody tr th {\n",
       "        vertical-align: top;\n",
       "    }\n",
       "\n",
       "    .dataframe thead th {\n",
       "        text-align: right;\n",
       "    }\n",
       "</style>\n",
       "<table border=\"1\" class=\"dataframe\">\n",
       "  <thead>\n",
       "    <tr style=\"text-align: right;\">\n",
       "      <th></th>\n",
       "      <th>Year</th>\n",
       "      <th>Counts</th>\n",
       "      <th>Avg_Magnitude</th>\n",
       "      <th>Max_Magnitude</th>\n",
       "    </tr>\n",
       "  </thead>\n",
       "  <tbody>\n",
       "    <tr>\n",
       "      <th>27</th>\n",
       "      <td>1965</td>\n",
       "      <td>156</td>\n",
       "      <td>6.009615</td>\n",
       "      <td>8.7</td>\n",
       "    </tr>\n",
       "    <tr>\n",
       "      <th>17</th>\n",
       "      <td>1966</td>\n",
       "      <td>98</td>\n",
       "      <td>6.060714</td>\n",
       "      <td>7.7</td>\n",
       "    </tr>\n",
       "    <tr>\n",
       "      <th>21</th>\n",
       "      <td>1967</td>\n",
       "      <td>103</td>\n",
       "      <td>5.962136</td>\n",
       "      <td>7.2</td>\n",
       "    </tr>\n",
       "    <tr>\n",
       "      <th>13</th>\n",
       "      <td>1968</td>\n",
       "      <td>106</td>\n",
       "      <td>6.070755</td>\n",
       "      <td>7.6</td>\n",
       "    </tr>\n",
       "    <tr>\n",
       "      <th>22</th>\n",
       "      <td>1969</td>\n",
       "      <td>114</td>\n",
       "      <td>6.015789</td>\n",
       "      <td>7.5</td>\n",
       "    </tr>\n",
       "  </tbody>\n",
       "</table>\n",
       "</div>"
      ],
      "text/plain": [
       "    Year  Counts  Avg_Magnitude  Max_Magnitude\n",
       "27  1965     156       6.009615            8.7\n",
       "17  1966      98       6.060714            7.7\n",
       "21  1967     103       5.962136            7.2\n",
       "13  1968     106       6.070755            7.6\n",
       "22  1969     114       6.015789            7.5"
      ]
     },
     "execution_count": 61,
     "metadata": {},
     "output_type": "execute_result"
    }
   ],
   "source": [
    "df_quake_freq.head(5)"
   ]
  },
  {
   "cell_type": "code",
   "execution_count": 62,
   "metadata": {},
   "outputs": [],
   "source": [
    "# Create a magnitude plot\n",
    "def plotMagnitude():\n",
    "    # Load the datasource\n",
    "    cds = ColumnDataSource(data=dict(\n",
    "        yrs = df_quake_freq['Year'].values.tolist(),\n",
    "        avg_mag = df_quake_freq['Avg_Magnitude'].round(1).values.tolist(),\n",
    "        max_mag = df_quake_freq['Max_Magnitude'].values.tolist()\n",
    "    ))\n",
    "    \n",
    "    # Tooltip\n",
    "    TOOLTIPS = [\n",
    "        ('Year', ' @yrs'),\n",
    "        ('Average Magnitude', ' @avg_mag'),\n",
    "        ('Maximum Magnitude', ' @max_mag')\n",
    "    ]\n",
    "    \n",
    "    # Create the figure\n",
    "    mp = figure(title='Maximum and Average Magnitude by Year',\n",
    "               plot_width=1150, plot_height=400,\n",
    "               x_axis_label='Years',\n",
    "               y_axis_label='Magnitude',\n",
    "               x_minor_ticks=2,\n",
    "               y_range=(5, df_quake_freq['Max_Magnitude'].max() + 1),\n",
    "               toolbar_location=None,\n",
    "               tooltips=TOOLTIPS)\n",
    "    \n",
    "    # Max Magnitude\n",
    "    mp.line(x='yrs', y='max_mag', color='#cc0000', line_width=2, legend_label='Max Magnitude', source=cds)\n",
    "    mp.circle(x='yrs', y='max_mag', color='#cc0000', size=8, fill_color='#cc0000', source=cds)\n",
    "    \n",
    "    # Average Magnitude \n",
    "    mp.line(x='yrs', y='avg_mag', color='yellow', line_width=2, legend_label='Avg Magnitude', source=cds)\n",
    "    mp.circle(x='yrs', y='avg_mag', color='yellow', size=8, fill_color='yellow', source=cds)\n",
    "    \n",
    "    mp = style(mp)\n",
    "    \n",
    "    # show(mp)\n",
    "    \n",
    "    return mp\n",
    "\n",
    "# plotMagnitude()  "
   ]
  },
  {
   "cell_type": "code",
   "execution_count": 65,
   "metadata": {},
   "outputs": [
    {
     "name": "stderr",
     "output_type": "stream",
     "text": [
      "c:\\users\\pbo_a\\appdata\\local\\programs\\python\\python37\\lib\\site-packages\\ipykernel_launcher.py:37: SettingWithCopyWarning: \n",
      "A value is trying to be set on a copy of a slice from a DataFrame.\n",
      "Try using .loc[row_indexer,col_indexer] = value instead\n",
      "\n",
      "See the caveats in the documentation: https://pandas.pydata.org/pandas-docs/stable/user_guide/indexing.html#returning-a-view-versus-a-copy\n",
      "c:\\users\\pbo_a\\appdata\\local\\programs\\python\\python37\\lib\\site-packages\\ipykernel_launcher.py:38: SettingWithCopyWarning: \n",
      "A value is trying to be set on a copy of a slice from a DataFrame.\n",
      "Try using .loc[row_indexer,col_indexer] = value instead\n",
      "\n",
      "See the caveats in the documentation: https://pandas.pydata.org/pandas-docs/stable/user_guide/indexing.html#returning-a-view-versus-a-copy\n",
      "c:\\users\\pbo_a\\appdata\\local\\programs\\python\\python37\\lib\\site-packages\\ipykernel_launcher.py:43: SettingWithCopyWarning: \n",
      "A value is trying to be set on a copy of a slice from a DataFrame.\n",
      "Try using .loc[row_indexer,col_indexer] = value instead\n",
      "\n",
      "See the caveats in the documentation: https://pandas.pydata.org/pandas-docs/stable/user_guide/indexing.html#returning-a-view-versus-a-copy\n"
     ]
    },
    {
     "data": {
      "text/html": [
       "\n",
       "\n",
       "\n",
       "\n",
       "\n",
       "\n",
       "  <div class=\"bk-root\" id=\"e64214d5-347a-45aa-9b29-871264508f63\" data-root-id=\"1643\"></div>\n"
      ]
     },
     "metadata": {},
     "output_type": "display_data"
    },
    {
     "data": {
      "application/javascript": [
       "(function(root) {\n",
       "  function embed_document(root) {\n",
       "    \n",
       "  var docs_json = {\"5f73b81b-40be-4a1b-85fe-cd445785e349\":{\"roots\":{\"references\":[{\"attributes\":{\"children\":[{\"id\":\"1642\"},{\"id\":\"1640\"}]},\"id\":\"1643\",\"type\":\"Column\"},{\"attributes\":{\"data_source\":{\"id\":\"1536\"},\"glyph\":{\"id\":\"1588\"},\"hover_glyph\":null,\"muted_glyph\":null,\"nonselection_glyph\":{\"id\":\"1589\"},\"selection_glyph\":null,\"view\":{\"id\":\"1591\"}},\"id\":\"1590\",\"type\":\"GlyphRenderer\"},{\"attributes\":{},\"id\":\"1489\",\"type\":\"DataRange1d\"},{\"attributes\":{\"background_fill_alpha\":0.25,\"background_fill_color\":\"#20262B\",\"border_line_alpha\":0,\"glyph_width\":15,\"items\":[{\"id\":\"1535\"}],\"label_standoff\":8,\"label_text_color\":\"#E0E0E0\",\"label_text_font\":\"Helvetica\",\"label_text_font_size\":\"1.025em\",\"location\":\"top_left\",\"spacing\":8},\"id\":\"1534\",\"type\":\"Legend\"},{\"attributes\":{\"label\":{\"value\":\"Year\"},\"renderers\":[{\"id\":\"1524\"}]},\"id\":\"1535\",\"type\":\"LegendItem\"},{\"attributes\":{\"axis\":{\"id\":\"1497\"},\"grid_line_alpha\":0.25,\"grid_line_color\":\"#E0E0E0\",\"ticker\":null},\"id\":\"1500\",\"type\":\"Grid\"},{\"attributes\":{},\"id\":\"1531\",\"type\":\"UnionRenderers\"},{\"attributes\":{\"line_alpha\":0.1,\"line_color\":\"yellow\",\"line_width\":2,\"x\":{\"field\":\"yrs\"},\"y\":{\"field\":\"avg_mag\"}},\"id\":\"1594\",\"type\":\"Line\"},{\"attributes\":{},\"id\":\"1532\",\"type\":\"Selection\"},{\"attributes\":{\"data_source\":{\"id\":\"1536\"},\"glyph\":{\"id\":\"1593\"},\"hover_glyph\":null,\"muted_glyph\":null,\"nonselection_glyph\":{\"id\":\"1594\"},\"selection_glyph\":null,\"view\":{\"id\":\"1596\"}},\"id\":\"1595\",\"type\":\"GlyphRenderer\"},{\"attributes\":{\"line_color\":\"yellow\",\"line_width\":2,\"x\":{\"field\":\"yrs\"},\"y\":{\"field\":\"avg_mag\"}},\"id\":\"1593\",\"type\":\"Line\"},{\"attributes\":{\"source\":{\"id\":\"1536\"}},\"id\":\"1591\",\"type\":\"CDSView\"},{\"attributes\":{\"data\":{\"pred_lat\":[-4305644.878725946,-566748.298184276,-2129686.461762279,4576798.589796728,-6569926.986643506,2102014.9316169075,1701303.9921897436,1718917.152009302,-3739915.568881679,-2101533.516183289,-681600.442976885,-703995.8215343215,-7448440.212338019,2118248.9355914155,1678530.6267919843,2747669.8187303916,7787187.344932034,5128275.333156286,1735030.4984869228,1698536.8710225923,1709872.5242152764,1815089.6939157222,2698450.1605495107,4925775.566875482,1745701.721099107,-3631956.9676027764,-7219284.962370067,-7220161.650973685,-2104551.359970118,6871116.152136846,-8799329.294446291,-2153793.9305472,-4206130.0392036885,4452482.453741789,4509494.443295251,106415.23801256623,-2557126.0721197636,1512186.7203117542,438911.39930979925,3349465.5891309045,4914743.655082393,-2702494.352232406,-695092.6385978509,1725356.5830811297,844230.1342541707,1877309.0836236048,1691758.742954441,3221629.9168965113,-1832961.9011957513,-7912625.714267072,-605897.2791313904,-5989276.000660639,-1145282.3105185104,681981.0936987327,-3317861.212150935,5800306.867275992,7227731.923012483,1505010.8360824403,-396363.01566563087,3110671.5547305616,4871567.652741578,34464.6820680013,-2043834.993375725,4429256.6953345,4497391.699737972,-1969234.135804802,-7754111.940643026,-1852960.1451625917,7254582.226507023,7280814.093520289,-2317341.8919830867,-376534.060890135,1831095.2137202795,-372999.13958976517,5512343.6078667715,5061494.911955777,1576029.3031772126,7771982.62055044,8062469.851229396,-129028.0895611599,-161708.8821725821,-5985748.279869394,-2032972.4655502085,-698004.2220956333,-123795.04571138619,3334180.5471230606,-1665850.7073915948,-7355095.6786795445,-1200527.5166430902,-419776.828952932,-3534591.685046523,-1839328.3396986248,1574962.2867086118,-2876874.679370592,6885703.918075628,6873195.893977935,3920896.384432669,-2735164.9224374145,-2720870.1036247457,-2343223.557681384,-3861757.15764775,-52320.747453207616,-6237394.496044554,-684209.0685570824,3599857.9663209543,-120254.43798601728,-488869.975569843,-751603.8537432499,5653346.910651668,-1621239.7221826883,-2954956.4261257593,11972630.390174912,-509784.05228970014,-2347731.0651551904,3140736.139320978,-4380114.846842927,-6795732.894736507,-1657447.0457099949,-2449780.5835856874,-2430626.024760267,-2416088.7546149213,-1566014.8139201794,-2451922.130950162,-70121.559796827,-3575065.421551152,-7670127.402271534,454601.3348356274,-3234457.453569088,-1731128.1413604217,7143535.427905174,3412595.806500549,3582901.595867437,-2494688.855133488,-8316409.16625335,-1959937.7578399326,-836403.7278979729,-2418106.7702445276,-7211722.819822231,3610366.9396063318,3598666.3855736377,-2238506.885499229,-1612529.117119659,-2371952.904337748,1129381.2901968637,-1818009.4917290597,1120201.224843237,1132049.8215287544,-2318066.2695521857,-2468081.975861971,-330287.73264516547,-2480205.777766392,-2488321.031005311,-2469363.43797136,-2478875.5770178144,-425488.90432073775,-417177.49998489686,-419832.6093060029,-426236.4080493929,-1746464.1334434794,-2442723.714941221,-2475197.087909239,-961120.3823463281,23070653.714063987,23017578.89083119,22972492.920816742,-541126.3941315995,-805503.2306815294,-6862547.445647728,3289163.7310350225,-620133.7559040728,-26527.511136182584,-2490671.2143681957,274464.949188219,2114911.7816435685,-2420053.3593098465,3482140.0594611526,3792263.2916084253,-2456660.792872055,4310739.577394617,-8187111.827621816,1471113.6276090278,-2111410.720620923,-2054574.397347699,1064073.4976731613,4570289.9003546275,4151779.3925998537,-1316405.7714694205,-5081425.444171707,3831869.552869018,-2496656.043696367,-472794.39156972774,-2000220.328516855,-2472753.18361226,1308391.019937781,-2113725.1115881503,-1707473.4933615183,-1726072.1813098392,-6999959.447355698,45619.11627917563,4990992.382834879,6635262.103856747,-1766434.174267657,-2393392.991688738,685451.8444193258,1618757.24354095,-3570322.1306225546,-8433232.08722776,-1691850.9498408462,5088588.534926192,-1293287.889404825,-698418.5745860382,-7397288.521822361,1099802.996351176,-817948.6770221533,4525320.617361077,8306487.562006566,-7820139.622008823,-5588992.228074327,4518380.554022869,-2109578.1952632125,-668525.4304657294,-908799.531326025,-948748.992832175,-339539.992015826,-2664133.870717765,-2064241.1614338474,638680.4740663961,862313.1988759948,857123.4469409954,636331.0777585702,632818.3313257238,1464599.6400086829,-6832047.59130031,1547853.8366059961,1540382.0671977927,-2157361.3814672176,4269774.326043047,6654349.953489209,-7482427.682112884,-2593172.612202951,6922941.295510339,34353.36095726692,2963540.901167296,7747885.474860748,6938469.688544394,-2033417.1551428244,-2663406.851823695,-942997.9000432289,-2423170.738547443,3372.9807282539505,-587136.108265621,-2291994.7871158165,-2610385.9209709303,-1131687.975289045,1653476.4320984208,499019.2775873914,12673256.347779717,-7232331.040247741,-694543.9332678925,-2549699.865701337,-2130721.2189970976,-2022267.689426525,-2151981.0195756736,-2169151.5511257183,-2201815.0661135376,-2198935.6254887776,-5365811.401172721,2755248.2180776442,-2662437.544199333,-545572.9963252052,-2110306.486492369,-822977.1091850322,-1702145.7202415739,-1533175.837365457,-2188094.3838645956,-1686526.5676896854,-2736515.995592676,1108390.3548526065,2899247.571116649,384206.4656621807,1697280.2399914016,1358742.0221909478,78148.23778704347,-1663110.5734038544,-3515612.666032386,1355850.2420601917,-751615.0630744306,-696727.5869158688,314783.38479557785,-1158542.31074942,5249092.034354799,5251466.08195597,2255613.0303128827,-1523097.209169454,369430.8808398337,-2114300.813983417,-1504450.120204938,1973247.8774015973,-2047816.2328304106,-2361950.752767476,-2764708.0832564547,1266349.5260567088,-9036901.844784355,-7445379.231640741,-3569999.0833416884,1726499.241972048,1678726.4619239368,1591959.3923035788,-2075577.6191125002,4711592.3876203345,-3697894.4979751343,-929517.8827989912,1610771.2655774383,-7227922.704199101,-1902394.1145143113,-453675.0399595397,-8997805.451620065,-527676.4522642265,7176067.416283686,2164321.5495230677,1541814.3773614864,-8100499.685198234,-2207988.437418792,-1736970.3674071126,-4217157.9086806,-6357337.283314072,-4321997.7203316195,1230893.4115588807,-7572383.258442905,-2578074.42083684,-745752.8974622741,1246500.756029532,5922688.114774268,-4232681.143815502,-3178313.99124862,-3169524.199447897,-31715.053620725674,3994117.608229388,-509717.04716724897,-3649032.4471866395,-3543498.6991029233,5434235.246962346,-2850083.1727469866,-2220022.200725581,-1066974.4236178973,-5047525.047991203,-532580.2680479435,-4487249.0510882195,7104842.120234905,4790503.900218573,4792667.472756803,-1312938.1458496503,8348464.775425542,8350300.101798156,8361875.379767513,8359970.740134858,3608746.6061610063,-1081459.7614575624,613680.5528100671,-3912532.1501572262,-3924408.758540344,-1866135.711318369,6658187.08326438,-7337411.688928481,-3900282.5196553133,-3897255.305117063,-3900003.6645173165,-2337314.354431834,-4340474.349688632,-301988.9644560258,-8586207.569116628,-143870.3768323784,6625734.82365355,6752243.306047916,-2549170.4076041034,6858557.903920932,-1121049.0407249308,-310681.9021402735,5453657.620247199,1926809.1237635878,1977857.613992557,1049075.6774900411,-448095.1517515751,3151660.834632129,-2371464.574741726,4546886.706747683,1450445.4558200159,-3208248.7246229313,-7675664.015505834,-7637796.156257059,-7641276.689954517,6756972.061558729,-1641809.9026616956,6627150.819317838,2808339.2316463753,6629257.565175177,-605248.7137534146],\"pred_long\":[5780687.573505744,16456026.365497254,18823524.76789228,16103488.670104034,18104078.030844428,-10963711.932891482,-10479995.349547472,-10527105.758051185,-8029040.724904728,-1413334.5190095599,12581774.127418952,16572221.649987271,-3157232.2659297455,16224448.428800004,-10465579.475489743,15844915.75688942,-3746156.9000224797,15906798.261821399,-10523287.499516975,-10470811.491557026,-10497105.155282399,-10590758.24288678,-12115011.502522757,-14118940.44798695,-10511754.800270792,-7304629.138567501,927981.539150887,958304.9684429747,-7764823.913506894,19677846.199985255,17209826.297403906,-19543906.58866279,-1731262.9847151493,15704630.934591737,16032244.19599634,-2839637.7586965365,-7627299.814580885,-5491635.38371193,14304365.323801303,15643995.20795664,15845483.486292463,-19685415.925359197,17000879.61318493,-10482978.71190073,13886304.976127166,-10584012.281744706,-10452822.261844832,15562921.222811898,18699236.556421585,-2851237.2496371954,16873975.3936806,11117154.71900093,17976171.935922958,13961133.937838405,-7669278.394559028,16817848.10642263,18846512.24274109,-5490934.070919933,14035684.600822661,14491972.06163521,15972988.831047077,13381003.543518338,18832207.68817415,3051701.3886577226,15761270.291507354,7400920.498103682,-15741678.061127735,-8197088.628206255,18797075.256879795,18773854.01110032,-19299949.924589332,16348847.95976149,-10560390.285798375,16340409.942359356,9220782.665541198,14363520.501208851,16318858.48894178,-3792777.5027667037,-17104406.739622675,11097228.530148936,16484190.196667952,17814458.11164757,-19908444.52516352,14254382.872435123,-1520679.9039815138,14237840.796103245,-19271218.364015583,-14446186.355071936,-8300671.414389395,11312598.348986682,-8032792.191744462,-8179132.7943413,13440615.130838137,-1513956.2067375998,-18828678.860316005,-18818515.390806578,11561107.980233584,-19577959.220896453,-19556986.628831,-19347572.402750693,-19900696.688604306,-8940079.43755688,11891749.131787766,16437035.260367919,6379386.058890129,-2608471.704115224,16008065.60259604,14447221.626336314,16286175.086444875,-8478025.62712124,-1543366.8162051828,364526.8045516536,17057140.48383185,19207922.10155053,14511408.444727717,19760311.67876491,15551076.828991493,-19486309.884126347,18791709.65742356,18776425.491337646,18766718.431740474,18968629.72414131,18768288.036560655,13766669.919371633,-19869683.078469306,-15826770.679890113,14114409.744711664,8238176.652258052,-19250691.049913306,17878344.36741383,15879447.062933493,14702844.573044907,-12725977.395792559,-16822913.143253725,-19763306.17306725,12041907.992918814,18871904.218591034,240761.79468769205,6378406.4473711485,6376324.772893313,-7910262.828228306,18639658.36494903,-19338555.52399644,15607170.720402226,-19360374.14419192,15605556.58778572,15609185.603185581,-19309590.192492027,18776581.338624753,-8872942.652659455,18794114.158424694,18810967.929330796,18797242.236115985,18805669.121569037,14223180.019165771,14221254.191975046,14211881.090850255,14217825.551658614,-19287994.211278133,18804589.322508343,18829524.888446037,13245249.424495943,6144858.15568686,5923410.2926518,6028117.405691953,14592938.839784708,13700479.350145955,1868063.5069510029,14606319.44257806,16384136.238342956,13686642.337440351,18796396.207985956,14265381.238125501,-11862683.612741644,18808697.011718616,10573548.249610139,15645943.299045524,18758402.86577821,14391383.769754406,-1903663.4801066918,15997913.265035696,-19093797.359589268,-19815515.014249295,-9404994.158905908,16133622.856261773,5116154.741266219,-1571185.556954422,-9371976.797936622,15744806.138819026,-19968746.293326236,15972632.608676542,-19875772.254615694,18774644.379484948,-6810348.335547209,-19786471.75910133,-19301107.647293583,-19276995.84558776,-13070077.073783645,13579241.292722998,14656736.039958334,19934649.133296255,-19717030.66074449,18931883.16023045,10275278.80597864,16164992.688767318,-19761447.137571003,16731252.674534539,18719775.002472945,15796480.646445265,12754285.942301288,11375438.201539483,-14379951.258049939,13970161.94854174,17337788.05207077,4278063.6909309,-16993432.33925086,-15876597.283969184,-9005435.110601611,15733306.835420081,18857978.150292795,16626890.651915848,17895008.895185582,12837731.032599926,15235864.558861258,-7538834.215247469,-19833604.431503203,14170982.309932806,13899607.655276963,13893997.152940981,14148139.550422024,14159983.944242429,13955200.608979123,15547347.626049919,13462467.146880858,13461921.68137597,18877414.533385303,6727738.14142952,-19634220.09154337,-3339729.4391362383,2800330.846497431,-3597701.22710057,13422926.463751087,-12247782.259191895,18121265.76022291,19176073.595234573,-19863671.825966466,-19904325.70400417,3342979.968267402,19411291.67928076,13923507.949950278,11435127.712502839,5192709.155084753,-7770467.811690112,17925454.77591754,16067855.301101107,13649673.134547904,-10287657.533354852,-15123699.039937956,16417053.411770526,-7546904.878329982,19620806.092902783,18604102.919589657,19624201.33737198,19613102.784139886,19587020.627447024,19597996.729239237,-8293491.307233229,10243363.50796821,19952716.286652006,-8501191.21315532,19618557.43918876,9258653.55630907,-19288127.794667084,18537177.64172474,-7113838.66329691,-19634654.237557467,-7420468.200686982,13965208.231201438,7042560.793341977,-8312393.356769928,-6737656.708059201,15699053.828102991,-8869591.935986578,18607910.046174783,-19753988.731687855,16281210.237155495,17098918.688726567,17273645.761475686,14272093.803420337,17959785.70687819,1468348.6113595958,1472400.640824471,-8526405.077819996,18525444.56739513,10961585.730617331,19602182.34209307,18545404.152094364,-6806329.70192957,-19855946.253305417,-19652576.675575186,19993436.956384186,-9646423.870538358,-17932690.542819105,-13887941.372641826,-19821136.648534358,-10817538.309530836,-10242417.292296467,-10382156.649089262,18782715.042567465,2934938.3747646576,-7988286.659325312,11828697.772202456,-10354349.040289104,-16323778.810434842,-19783221.22997017,-8945445.037013115,17347361.528278995,16156499.011619791,19026682.83859,16234411.523226002,-10126934.452547526,-2921234.945448006,3839208.862376577,-8169236.491609777,-8155822.492969188,18258144.206102323,-11201334.517938806,13890891.33914785,-3066028.2071228167,19269426.120213814,16446909.299201284,13873592.290278576,-12531825.07190001,-8163681.649019193,-19616453.500812765,-19638350.044651803,-8960406.37657573,-4290754.112881334,17035678.086006906,20029237.304623302,-19777221.10941641,16461325.17325901,-19727572.61652261,-19617444.244280823,7366010.705790913,8976614.494435232,17055359.37197916,-7980449.767173465,-17921024.26018397,7950694.067284424,7953087.436336478,-1551548.7987784883,-15215348.37670806,-15209492.971492331,-15217841.933301827,-15218643.43363554,14629017.486750808,12451029.385482254,13922261.171653392,-7992717.175058885,-8011596.960697423,-19330217.69413602,19885512.71006011,-14504840.594770912,-8021871.749697642,-8027849.60635324,-8018298.394043178,-19325252.84484664,-10956943.707851252,-8382747.274951275,-4231921.761997088,13406350.991571967,-19704841.176502623,-19880269.562043745,-19628954.67962885,-18553163.120602652,18028581.15218843,13594113.576692982,16444048.388287898,-10473828.249757523,-11724480.464921793,13798462.765942194,16973784.44912585,14476454.124618625,-7648873.53189662,6368120.52642185,-10025555.79228209,-19658409.81689275,-2876918.6561632035,-2870606.8410352245,-2865719.9153894004,-19868358.376528863,18632289.01465851,-19708436.796055246,14061588.646330256,-19702080.45313095,16791877.269220557],\"pred_mag\":[5.834359794866099,5.890986766956537,5.905092845936099,5.974606579669757,5.900750132272739,5.87482635168997,5.959402216857609,5.867628019442249,5.938861621296046,5.814487244153353,5.91833026872598,5.9745958643442485,5.871434981109321,5.855555434207936,5.959402216857609,5.856577836179226,5.833885239159023,5.85572344758538,5.959402216857609,5.959402216857609,5.87482635168997,5.87482635168997,5.865050792680876,5.964591110197665,5.873537304609641,5.865133305933483,5.828371311772504,5.871434981109321,5.86847659367542,5.857807590096817,5.875820240442046,5.808217886229898,5.808295748063729,5.857673544687055,5.909288318259079,5.831588153258792,5.866362275428591,5.8421089050517185,5.873048404189578,5.883161547466569,5.857673544687055,5.847183399448404,5.882603153413257,5.87482635168997,5.881308326699691,5.867628019442249,5.87482635168997,5.929827528434185,5.901800712038501,5.954270436126615,5.960449982751032,5.844773166978031,5.8860284048450255,5.851695336582024,5.866412108699616,5.861263593703532,5.9509962893335855,5.8421089050517185,5.958427810475231,5.954993980661263,5.903183928066764,5.8512337796536285,5.903709469193524,5.8822909119454945,5.933608685053449,5.827619070440713,5.798767019597519,5.874632583371367,5.9509962893335855,5.977152915707415,5.827631184690012,5.890986766956537,5.873537304609641,5.890986766956537,5.930467318010002,5.914838201511851,5.98187079985246,5.833885239159023,5.858831729610062,5.860654956681905,5.897025281758035,5.8813256207822535,5.8553955278994305,5.9453371805759705,5.861934498272149,5.928050379402959,5.848420371405658,5.800343298194073,5.926551545688069,5.937501437528338,5.8599387238999645,5.874632583371367,5.895038323620721,5.8037177372153135,5.959307185414225,5.948532713715719,5.894733824819375,5.88597695627596,5.784517626514509,5.811631728530323,5.829464529268626,5.955704752063516,5.8432995016924085,5.869166039838592,5.885867251779269,5.831588153258792,5.8677905547979945,5.859694064589313,5.912224001695465,5.94480880021704,5.8037177372153135,5.828071750759008,5.88157849119352,5.982007726977924,5.954993980661263,6.00243804455403,5.866762232335608,5.894004619088058,5.881028736836241,5.881028736836241,5.883292472312163,5.902370525207479,6.000342649443766,5.9519475737864385,5.911674772780338,5.798767019597519,5.9516141843977435,5.814073437529578,5.83152291535913,5.858841780541901,5.887470604623418,5.8743311917056475,5.807122365131362,5.798767019597519,5.860676312668646,5.862732313877562,5.986041840812279,5.935284692123775,5.872030824285529,5.9402406369429945,5.9453155670979605,5.922329198005887,5.827631184690012,5.881438792629381,5.853810093133328,5.885877222862544,5.961564033544445,5.918978373933824,6.000342649443766,5.871378145718902,5.881028736836241,5.881028736836241,5.986041840812279,5.987706857562691,5.958427810475231,5.903269350047716,5.903269350047716,5.903269350047716,5.834764815557476,5.881028736836241,5.980005763205199,5.862732313877562,5.863718773263473,5.863718773263473,5.863718773263473,5.865888778377431,5.92136851801423,5.828371311772504,5.954993980661263,5.913046778007019,5.8512337796536285,5.883292472312163,5.883405633752067,5.861353461220202,5.881028736836241,5.876641758082472,5.85383784662658,5.881028736836241,5.884867317441774,5.850190354616261,5.8453374096657225,5.823771344671185,5.856332664900114,5.970083361570746,5.975028963409004,5.940559152478384,5.821499911855637,5.816889416667317,5.957148313632457,5.842417144536417,5.8677905547979945,5.845363365755382,5.881028736836241,5.85396073303153,5.860676312668646,5.834764815557476,5.834764815557476,5.81934846133707,5.8512337796536285,5.930923236942015,5.966165217940903,5.836766790371813,5.886524265978601,5.857630575163393,5.850126577669249,5.935448939903507,5.879386160693713,5.9084090400089755,5.856384497606726,5.861195720936057,5.86742729231185,5.800343298194073,5.957958758100934,5.97505768592996,5.872922981860978,5.860715051288631,5.872480580171643,5.816889416667317,5.857673544687055,5.9130734601897945,5.879494583691183,5.92401191726192,5.862732313877562,5.854051461604444,5.860748568624745,5.860676312668646,5.868162271134496,5.866064964082119,5.881308326699691,5.9520269706522075,5.9520269706522075,5.868536553192596,5.866762232335608,5.957958758100934,5.957958758100934,5.915465805494128,5.938789694470677,5.960391514715568,5.934583648785092,5.917178535346939,5.833885239159023,5.8512337796536285,5.95843274334867,5.990172110668363,5.971170567701467,5.845363365755382,5.83984564320442,5.901792218116601,5.877684213402854,5.852522826733958,5.958283912824942,5.838954184512376,5.860748568624745,6.006739009438726,5.888659406217827,5.9323279278370125,5.913923521432493,5.800343298194073,5.867876992758262,5.887764796854664,5.89906140427844,6.000425446452016,5.983777184985631,5.89185886831292,5.89185886831292,5.982007726977924,5.940326268704404,5.894743761504126,5.906461434446237,5.874717259402566,5.898768660325144,5.845896060053494,5.854012948965842,6.002648675244505,5.964088509524431,5.885652503157559,5.882151090050818,5.957958758100934,5.934935552229885,5.869849510848416,5.865989507717416,5.892764080995068,5.843831590912297,5.889928163562173,5.935448939903507,5.88801436900659,5.882603153413257,5.874768785418107,5.850802139400184,5.887317451925354,5.840442227737007,5.847474911770812,5.949548740044556,6.002648675244505,5.892848209306745,5.898768660325144,6.002648675244505,5.928116649657907,5.856332664900114,5.862458210976679,5.875374471170818,5.8635964329415735,5.798767019597519,5.81934846133707,5.849487760320948,5.965882453546401,5.875420626288211,5.857445231617838,5.992683943511177,5.948945654772135,5.908664612794684,5.882256301431072,5.857445231617838,5.800343298194073,5.820556591768795,5.874717259402566,5.875820240442046,5.913046778007019,5.969922756977256,5.855555434207936,5.85717955860889,5.80972147616341,5.910258078691403,5.8733435362910384,5.8119584968342375,5.8813256207822535,5.815319768457821,5.883779915810169,5.799766048661123,5.973999858755169,5.874791853647925,5.887755217511097,5.956327251432563,5.938861621296046,5.8960630405471735,5.8960630405471735,5.955704752063516,5.859136747249232,5.88157849119352,5.908336836222621,5.935448939903507,5.862276956525098,5.843797198926901,5.808217886229898,5.8346317381429955,5.839441271913464,5.882867538273849,5.858193835328818,5.958695221437472,5.885307507125988,5.948945654772135,5.821499911855637,5.873522013898217,5.880665019759914,5.880665019759914,5.873522013898217,5.9289077011021085,5.86467252433197,5.956285280845722,5.908664612794684,5.934541265751968,5.832047369629626,5.966165217940903,5.800343298194073,5.908664612794684,5.938861621296046,5.934541265751968,5.918978373933824,5.815319768457821,5.952786068164754,5.971281624141982,5.958427810475231,5.949691832444689,5.980870278784435,5.839957223268068,5.864679102618004,5.8860284048450255,5.8697485832188825,5.856651142715767,5.886034001942515,5.861353461220202,5.90541128317875,5.888143203444176,5.8743311917056475,5.870868938979754,5.8822909119454945,5.962054060615193,5.818669955136256,5.995208862947952,5.850190354616261,5.970356334858065,5.973365378452209,5.925668400305806,5.949691832444689,5.8743311917056475,5.949691832444689,5.878205536610854],\"pred_mag_s\":[23.337439179464397,23.56394706782615,23.620371383744395,23.89842631867903,23.603000529090956,23.49930540675988,23.837608867430436,23.470512077768998,23.755446485184184,23.257948976613413,23.67332107490392,23.898383457376994,23.485739924437283,23.422221736831744,23.837608867430436,23.426311344716904,23.33554095663609,23.42289379034152,23.837608867430436,23.837608867430436,23.49930540675988,23.49930540675988,23.460203170723503,23.85836444079066,23.494149218438565,23.460533223733933,23.313485247090014,23.485739924437283,23.47390637470168,23.431230360387268,23.503280961768183,23.232871544919593,23.233182992254918,23.43069417874822,23.637153273036315,23.32635261303517,23.465449101714363,23.368435620206874,23.49219361675831,23.532646189866277,23.43069417874822,23.388733597793617,23.530412613653027,23.49930540675988,23.525233306798764,23.470512077768998,23.49930540675988,23.71931011373674,23.607202848154003,23.81708174450646,23.84179993100413,23.379092667912126,23.544113619380102,23.406781346328096,23.465648434798464,23.445054374814127,23.803985157334342,23.368435620206874,23.833711241900925,23.819975922645053,23.612735712267057,23.404935118614514,23.614837876774097,23.529163647781978,23.734434740213796,23.310476281762853,23.195068078390076,23.49853033348547,23.803985157334342,23.90861166282966,23.310524738760048,23.56394706782615,23.494149218438565,23.56394706782615,23.721869272040006,23.659352806047405,23.92748319940984,23.33554095663609,23.435326918440246,23.44261982672762,23.58810112703214,23.525302483129014,23.421582111597722,23.781348722303882,23.447737993088595,23.712201517611835,23.393681485622633,23.20137319277629,23.706206182752275,23.750005750113353,23.439754895599858,23.49853033348547,23.580153294482884,23.214870948861254,23.8372287416569,23.794130854862875,23.5789352992775,23.54390782510384,23.138070506058035,23.246526914121294,23.317858117074504,23.822819008254065,23.373198006769634,23.476664159354367,23.543469007117075,23.32635261303517,23.471162219191978,23.43877625835725,23.64889600678186,23.77923520086816,23.214870948861254,23.312287003036033,23.52631396477408,23.928030907911698,23.819975922645053,24.00975217821612,23.467048929342432,23.576018476352232,23.524114947344962,23.524114947344962,23.53316988924865,23.609482100829915,24.001370597775065,23.807790295145754,23.646699091121352,23.195068078390076,23.806456737590974,23.256293750118314,23.32609166143652,23.435367122167605,23.549882418493674,23.49732476682259,23.22848946052545,23.195068078390076,23.442705250674585,23.45092925551025,23.944167363249115,23.7411387684951,23.488123297142117,23.760962547771978,23.781262268391842,23.689316792023547,23.310524738760048,23.525755170517524,23.41524037253331,23.543508891450177,23.84625613417778,23.675913495735298,24.001370597775065,23.485512582875607,23.524114947344962,23.524114947344962,23.944167363249115,23.950827430250765,23.833711241900925,23.613077400190864,23.613077400190864,23.613077400190864,23.339059262229902,23.524114947344962,23.920023052820795,23.45092925551025,23.454875093053893,23.454875093053893,23.454875093053893,23.463555113509724,23.68547407205692,23.313485247090014,23.819975922645053,23.652187112028077,23.404935118614514,23.53316988924865,23.533622535008266,23.445413844880807,23.524114947344962,23.506567032329887,23.41535138650632,23.524114947344962,23.539469269767096,23.400761418465045,23.38134963866289,23.29508537868474,23.425330659600455,23.880333446282982,23.900115853636017,23.762236609913536,23.28599964742255,23.26755766666927,23.828593254529828,23.369668578145667,23.471162219191978,23.38145346302153,23.524114947344962,23.41584293212612,23.442705250674585,23.339059262229902,23.339059262229902,23.27739384534828,23.404935118614514,23.72369294776806,23.86466087176361,23.347067161487253,23.546097063914402,23.43052230065357,23.400506310676995,23.74179575961403,23.51754464277485,23.633636160035902,23.425537990426903,23.444782883744228,23.4697091692474,23.20137319277629,23.831835032403735,23.90023074371984,23.491691927443913,23.442860205154524,23.48992232068657,23.26755766666927,23.43069417874822,23.652293840759178,23.51797833476473,23.69604766904768,23.45092925551025,23.416205846417775,23.44299427449898,23.442705250674585,23.472649084537984,23.464259856328475,23.525233306798764,23.80810788260883,23.80810788260883,23.474146212770385,23.467048929342432,23.831835032403735,23.831835032403735,23.66186322197651,23.75515877788271,23.841566058862274,23.73833459514037,23.668714141387756,23.33554095663609,23.404935118614514,23.83373097339468,23.96068844267345,23.884682270805868,23.38145346302153,23.35938257281768,23.607168872466403,23.510736853611416,23.410091306935833,23.833135651299767,23.355816738049505,23.44299427449898,24.026956037754903,23.554637624871308,23.72931171134805,23.655694085729973,23.20137319277629,23.47150797103305,23.551059187418655,23.59624561711376,24.001701785808063,23.935108739942525,23.56743547325168,23.56743547325168,23.928030907911698,23.761305074817617,23.578975046016502,23.62584573778495,23.498869037610262,23.595074641300577,23.383584240213978,23.416051795863368,24.01059470097802,23.856354038097724,23.542610012630234,23.52860436020327,23.831835032403735,23.73974220891954,23.479398043393665,23.463958030869662,23.571056323980272,23.375326363649187,23.559712654248692,23.74179575961403,23.55205747602636,23.530412613653027,23.499075141672428,23.403208557600735,23.549269807701418,23.36176891094803,23.389899647083247,23.798194960178225,24.01059470097802,23.57139283722698,23.595074641300577,24.01059470097802,23.71246659863163,23.425330659600455,23.449832843906716,23.50149788468327,23.454385731766294,23.195068078390076,23.27739384534828,23.397951041283793,23.863529814185604,23.501682505152843,23.429780926471352,23.97073577404471,23.79578261908854,23.634658451178737,23.529025205724288,23.429780926471352,23.20137319277629,23.28222636707518,23.498869037610262,23.503280961768183,23.652187112028077,23.879691027909026,23.422221736831744,23.42871823443556,23.23888590465364,23.641032314765614,23.493374145164154,23.24783398733695,23.525302483129014,23.261279073831282,23.535119663240675,23.199064194644492,23.895999435020677,23.4991674145917,23.55102087004439,23.82530900573025,23.755446485184184,23.584252162188694,23.584252162188694,23.822819008254065,23.436546988996927,23.52631396477408,23.633347344890485,23.74179575961403,23.44910782610039,23.375188795707604,23.232871544919593,23.338526952571982,23.357765087653856,23.531470153095395,23.43277534131527,23.83478088574989,23.541230028503954,23.79578261908854,23.28599964742255,23.49408805559287,23.522660079039657,23.522660079039657,23.49408805559287,23.715630804408434,23.45869009732788,23.82514112338289,23.634658451178737,23.738165063007873,23.328189478518503,23.86466087176361,23.20137319277629,23.634658451178737,23.755446485184184,23.738165063007873,23.675913495735298,23.261279073831282,23.811144272659018,23.885126496567928,23.833711241900925,23.798767329778755,23.92348111513774,23.359828893072272,23.458716410472015,23.544113619380102,23.47899433287553,23.426604570863066,23.54413600777006,23.445413844880807,23.621645132715,23.552572813776703,23.49732476682259,23.483475755919017,23.529163647781978,23.848216242460772,23.274679820545025,23.98083545179181,23.400761418465045,23.88142533943226,23.893461513808838,23.702673601223225,23.798767329778755,23.49732476682259,23.798767329778755,23.512822146443416],\"year\":[2017,2017,2017,2017,2017,2017,2017,2017,2017,2017,2017,2017,2017,2017,2017,2017,2017,2017,2017,2017,2017,2017,2017,2017,2017,2017,2017,2017,2017,2017,2017,2017,2017,2017,2017,2017,2017,2017,2017,2017,2017,2017,2017,2017,2017,2017,2017,2017,2017,2017,2017,2017,2017,2017,2017,2017,2017,2017,2017,2017,2017,2017,2017,2017,2017,2017,2017,2017,2017,2017,2017,2017,2017,2017,2017,2017,2017,2017,2017,2017,2017,2017,2017,2017,2017,2017,2017,2017,2017,2017,2017,2017,2017,2017,2017,2017,2017,2017,2017,2017,2017,2017,2017,2017,2017,2017,2017,2017,2017,2017,2017,2017,2017,2017,2017,2017,2017,2017,2017,2017,2017,2017,2017,2017,2017,2017,2017,2017,2017,2017,2017,2017,2017,2017,2017,2017,2017,2017,2017,2017,2017,2017,2017,2017,2017,2017,2017,2017,2017,2017,2017,2017,2017,2017,2017,2017,2017,2017,2017,2017,2017,2017,2017,2017,2017,2017,2017,2017,2017,2017,2017,2017,2017,2017,2017,2017,2017,2017,2017,2017,2017,2017,2017,2017,2017,2017,2017,2017,2017,2017,2017,2017,2017,2017,2017,2017,2017,2017,2017,2017,2017,2017,2017,2017,2017,2017,2017,2017,2017,2017,2017,2017,2017,2017,2017,2017,2017,2017,2017,2017,2017,2017,2017,2017,2017,2017,2017,2017,2017,2017,2017,2017,2017,2017,2017,2017,2017,2017,2017,2017,2017,2017,2017,2017,2017,2017,2017,2017,2017,2017,2017,2017,2017,2017,2017,2017,2017,2017,2017,2017,2017,2017,2017,2017,2017,2017,2017,2017,2017,2017,2017,2017,2017,2017,2017,2017,2017,2017,2017,2017,2017,2017,2017,2017,2017,2017,2017,2017,2017,2017,2017,2017,2017,2017,2017,2017,2017,2017,2017,2017,2017,2017,2017,2017,2017,2017,2017,2017,2017,2017,2017,2017,2017,2017,2017,2017,2017,2017,2017,2017,2017,2017,2017,2017,2017,2017,2017,2017,2017,2017,2017,2017,2017,2017,2017,2017,2017,2017,2017,2017,2017,2017,2017,2017,2017,2017,2017,2017,2017,2017,2017,2017,2017,2017,2017,2017,2017,2017,2017,2017,2017,2017,2017,2017,2017,2017,2017,2017,2017,2017,2017,2017,2017,2017,2017,2017,2017,2017,2017,2017,2017,2017,2017,2017,2017,2017,2017,2017,2017,2017,2017,2017,2017,2017,2017,2017,2017]},\"selected\":{\"id\":\"1480\"},\"selection_policy\":{\"id\":\"1479\"}},\"id\":\"1415\",\"type\":\"ColumnDataSource\"},{\"attributes\":{\"axis_label\":\"Years\",\"axis_label_standoff\":10,\"axis_label_text_color\":\"#E0E0E0\",\"axis_label_text_font\":\"Helvetica\",\"axis_label_text_font_size\":\"14pt\",\"axis_label_text_font_style\":\"bold\",\"axis_line_alpha\":0,\"axis_line_color\":\"#E0E0E0\",\"formatter\":{\"id\":\"1580\"},\"major_label_text_color\":\"#E0E0E0\",\"major_label_text_font\":\"Helvetica\",\"major_label_text_font_size\":\"12pt\",\"major_tick_line_alpha\":0,\"major_tick_line_color\":\"#E0E0E0\",\"minor_tick_line_alpha\":0,\"minor_tick_line_color\":\"#E0E0E0\",\"ticker\":{\"id\":\"1549\"}},\"id\":\"1548\",\"type\":\"LinearAxis\"},{\"attributes\":{\"label\":{\"value\":\"Avg Magnitude\"},\"renderers\":[{\"id\":\"1595\"}]},\"id\":\"1605\",\"type\":\"LegendItem\"},{\"attributes\":{},\"id\":\"1546\",\"type\":\"LinearScale\"},{\"attributes\":{\"axis\":{\"id\":\"1548\"},\"grid_line_alpha\":0.25,\"grid_line_color\":\"#E0E0E0\",\"ticker\":null},\"id\":\"1551\",\"type\":\"Grid\"},{\"attributes\":{},\"id\":\"1480\",\"type\":\"Selection\"},{\"attributes\":{\"source\":{\"id\":\"1536\"}},\"id\":\"1596\",\"type\":\"CDSView\"},{\"attributes\":{},\"id\":\"1479\",\"type\":\"UnionRenderers\"},{\"attributes\":{\"data\":{\"lat\":[3230314.566706101,-4483469.075802989,-7426079.75738785,-2213915.801501731,4912675.02068954,4359273.23933069,2306420.320560517,-4456823.764446551,7249204.8093854645,-1219510.091862458,61594.03159729839,-3681872.3599156886,-621364.074218154,-115277.60839181444,-3344525.2231373596,-2714535.8476083255,938327.8076290637,-7287232.027312336,-4441532.400450267,-4442926.682361412,-1692473.3553627734,797189.2654855343,-1698767.4525167744,-1645353.0122122725,65390.214373085604,64699.99763943559,-718310.979350528,-2749095.058186247,-8126461.540002937,-2551709.5517699746,2868953.7923551914,-2568831.740902209,-2897353.1892552385,-4489209.573341354,-4500545.7623202745,-4470697.205647996,-4446385.293838093,-4471340.325008444,-2744089.018216976,6846037.379623727,-450405.18369439204,1235690.5297297353,588980.6922978276,5438076.329098564,4932064.174315522,-1195690.063706147,-1144151.1386994515,-1217265.6283307744,-1214148.5648662208,-1203654.6642516751,-1240091.3303174912,-1228920.328684846,-1227026.7319589504,-1163431.2025315375,-1156222.5862376215,-1218829.9356544984,-631017.2840090224,-4274618.876232512,-816613.0848425829,2586827.7678902973,502022.99706885614,-1725206.5409805682,-4304433.519025345,-4456418.872302224,197100.25765049175,-1732109.4437709805,-603705.6005118577,-680771.976234633,-4176730.7437068527,-905830.9111608852,-7991177.156025094,-4380392.084819088,-528290.8084284626,-6454454.065666398,-2323743.5323901074,4649917.791428913,-2871569.0678798584,681925.11549967,-4191379.7565639713,-2588190.6188395876,-45318.54601658557,-1597470.6170010692,-1189867.89525655,-1077518.9345580437,-3886984.5412093443,-551952.8806289821,-534289.4164623911,-1092279.3816380876,-370880.47196445666,-345125.133793962,-3577327.8402285944,-3890327.522750172,6701229.281034023,6721815.015535953,3945945.23053972,-374080.791003844,7761753.97926687,-1611357.202772603,468775.96792111447,-1701661.4348117206,-738658.6098666815,-1714752.0518279816,-1919649.3727256414,-1019965.3263767234,-6543390.724483237,-3328358.0702136224,5591172.898038173,2851640.5215679468,3582617.0285600303,-7225385.693391577,2519559.275530917,-3589189.5968190334,-7895731.329585679,434091.130985274,5539417.811527147,-3676788.280848081,4383206.456763607,-3600829.447882163,2946475.6765804114,2624462.067661116,-1591614.9794630976,-1582053.595071207,-916356.9030152019,-672409.5786799104,-233455.68729851866,2040088.6479005006,-3419298.4832275123,-511168.83740093646,-1996283.2379809062,-3506570.907184386,-3509116.8698924873,-5645608.880689954,2080163.2375550573,2096579.1308771288,142378.32007136501,-452447.43496013916,-1260322.1273079962,1440522.2984627502,-969486.3282046615,-832620.1045632168,-1860667.204540434,-3532220.974959881,-7713171.987908111,2836895.013382633,-8997877.969353518,-1571979.4590359947,-462257.586109796,1811174.038604051,4365832.938958695,6643310.475927785,6773859.823305286,-418505.0455930204,-7410479.387446073,-560233.0274267893,-677928.4070738676,5418424.9975573495,-7511617.038765008,-1672495.0545528778,1548060.141959909,-999439.4980835484,2081535.6065417049,1852333.4820856596,2838365.246911671,-1228024.5420570814],\"lon\":[15801156.065058582,19894440.53322173,-3441764.884397353,-19336852.3357873,-13991487.056038685,-10790098.055050293,16407992.005219955,19892637.157470874,18761953.95753452,18476820.213816624,10977715.924833277,-7327650.009263551,-8566435.566709256,3519710.791850803,-12501768.809385827,-19472684.37845325,14013721.265289148,17667805.814476512,19914021.631652266,19928181.470881168,-19244512.81817428,-3821998.8690999374,-19280658.256834853,18633290.890075654,-8865016.704914976,-8865261.60779472,16415327.95966323,9190147.54167489,-2844146.1980736633,-7347954.684384244,15808937.297465034,19271262.891811904,-19741765.851598755,19942452.629600868,19981191.812396925,19936541.56463974,19918296.30009873,19881972.75025288,9176510.904052714,19388493.4475663,-11567976.39281553,-6779412.649055758,10705350.526709374,9611892.564494286,-14047807.293370048,17958216.102058005,17931254.52138787,17948063.764497656,17957358.941978898,17937087.66270544,17973066.122129828,17956935.92791388,17962412.84686091,17959062.130188033,17961410.97144377,17953485.023699287,17195900.229105666,-11493859.875845369,13734621.037972253,13518193.683971971,14230438.049965493,-7884425.574415187,-11244292.709435929,19886113.83531039,14187557.782111922,-19460851.116581924,17088142.96201778,16548621.9179391,-7908771.147051676,11670746.546715882,16496580.055993244,-8188695.138600441,16683596.80052594,12732912.600068979,-19839693.6076496,15759032.769742409,19902288.557322655,-9193943.53631094,6013690.399685146,-19629867.499453355,-8995449.752277454,18550179.758249395,18364176.02108291,13291691.916054895,-19857794.15685258,10500756.434580415,10509684.257742038,13950113.30824987,16567067.557563543,16568659.426281884,-7968672.165047537,-19839560.024260644,-19366530.112032786,-19363168.263410825,15182876.481243663,16128747.062565029,-17580920.951912362,18574224.76826074,14098780.48820429,-19305927.781244926,17225811.77628182,-19302254.23804875,19474109.267935403,-12228357.008048467,15523380.539682128,-19734830.64732233,14464921.425372442,10425125.972535465,14775847.895107137,-15168427.211338695,15986681.128414653,-7974739.077295771,-16469562.815577714,14122224.37296535,15705699.601703351,6477859.280445858,7898151.267629998,-20031986.896045897,13742123.971651718,13425286.436955903,18557092.698627654,18548554.493683815,11954121.442479238,14519356.656370355,11206021.0685012,-11781364.724717155,-7999351.816710162,13984666.878192104,-19217272.938777164,-19796601.83276352,-7955291.562254186,18571230.273958404,-11707815.93715004,-11711155.521873841,14067577.634934934,-11638797.852858212,12942772.10411246,-9680710.273702689,17873346.12227721,-1513978.4706357587,-19727394.505337343,-19809804.324371602,-15816250.988010151,13586888.9417405,18406009.885723025,18545192.645061854,11378076.473471284,-10715202.301644579,7918277.831565422,19986234.58532986,19667348.77200345,-11570180.518733237,16272037.51111413,11647035.495176913,-11929341.723828655,16420326.20479985,-16019486.98235143,18583019.00803341,5762820.795233425,-12049121.495922217,-11726072.333640138,-10891677.090399155,13579185.632977603,17986146.162298035],\"mag\":[5.7,5.5,5.5,5.5,5.64,5.8,5.5,5.9,6.1,5.6,5.5,5.6,6.1,5.9,5.8,5.6,5.8,6.1,5.7,5.5,5.8,5.5,6.0,5.6,5.9,6.3,5.6,5.6,5.6,6.2,6.3,7.2,6.1,7.0,5.5,5.5,6.1,5.5,5.5,5.9,5.6,5.9,6.5,6.0,6.6,7.8,5.7,5.5,6.5,6.9,5.5,5.5,5.8,5.5,5.6,5.8,6.0,5.6,6.3,5.8,5.7,6.2,5.6,5.8,5.8,5.6,5.6,6.0,6.3,5.8,5.7,6.0,5.9,5.7,5.6,6.1,5.9,5.6,5.5,5.5,5.5,5.9,5.9,6.3,5.6,7.8,5.6,5.6,5.9,5.6,6.3,5.5,5.6,6.3,5.9,6.2,5.9,6.9,5.9,5.9,6.4,5.8,5.7,5.8,6.3,5.8,5.8,6.7,5.8,6.0,5.7,5.7,5.6,6.5,6.2,5.9,5.7,6.2,5.7,6.4,5.8,6.7,6.1,5.5,6.6,5.8,5.8,6.3,5.6,6.1,5.5,5.5,6.3,5.5,6.3,5.9,6.1,6.1,6.2,5.5,5.8,5.5,5.8,5.7,5.5,6.7,5.7,5.5,6.6,5.6,5.6,5.8,5.5,5.7,5.6,5.7,5.5,5.7,5.5,5.6,5.6,5.8,5.8,5.5],\"mag_s\":[22.8,22.0,22.0,22.0,22.56,23.2,22.0,23.6,24.4,22.4,22.0,22.4,24.4,23.6,23.2,22.4,23.2,24.4,22.8,22.0,23.2,22.0,24.0,22.4,23.6,25.2,22.4,22.4,22.4,24.8,25.2,28.8,24.4,28.0,22.0,22.0,24.4,22.0,22.0,23.6,22.4,23.6,26.0,24.0,26.4,31.2,22.8,22.0,26.0,27.6,22.0,22.0,23.2,22.0,22.4,23.2,24.0,22.4,25.2,23.2,22.8,24.8,22.4,23.2,23.2,22.4,22.4,24.0,25.2,23.2,22.8,24.0,23.6,22.8,22.4,24.4,23.6,22.4,22.0,22.0,22.0,23.6,23.6,25.2,22.4,31.2,22.4,22.4,23.6,22.4,25.2,22.0,22.4,25.2,23.6,24.8,23.6,27.6,23.6,23.6,25.6,23.2,22.8,23.2,25.2,23.2,23.2,26.8,23.2,24.0,22.8,22.8,22.4,26.0,24.8,23.6,22.8,24.8,22.8,25.6,23.2,26.8,24.4,22.0,26.4,23.2,23.2,25.2,22.4,24.4,22.0,22.0,25.2,22.0,25.2,23.6,24.4,24.4,24.8,22.0,23.2,22.0,23.2,22.8,22.0,26.8,22.8,22.0,26.4,22.4,22.4,23.2,22.0,22.8,22.4,22.8,22.0,22.8,22.0,22.4,22.4,23.2,23.2,22.0],\"year\":[2016.0,2016.0,2016.0,2016.0,2016.0,2016.0,2016.0,2016.0,2016.0,2016.0,2016.0,2016.0,2016.0,2016.0,2016.0,2016.0,2016.0,2016.0,2016.0,2016.0,2016.0,2016.0,2016.0,2016.0,2016.0,2016.0,2016.0,2016.0,2016.0,2016.0,2016.0,2016.0,2016.0,2016.0,2016.0,2016.0,2016.0,2016.0,2016.0,2016.0,2016.0,2016.0,2016.0,2016.0,2016.0,2016.0,2016.0,2016.0,2016.0,2016.0,2016.0,2016.0,2016.0,2016.0,2016.0,2016.0,2016.0,2016.0,2016.0,2016.0,2016.0,2016.0,2016.0,2016.0,2016.0,2016.0,2016.0,2016.0,2016.0,2016.0,2016.0,2016.0,2016.0,2016.0,2016.0,2016.0,2016.0,2016.0,2016.0,2016.0,2016.0,2016.0,2016.0,2016.0,2016.0,2016.0,2016.0,2016.0,2016.0,2016.0,2016.0,2016.0,2016.0,2016.0,2016.0,2016.0,2016.0,2016.0,2016.0,2016.0,2016.0,2016.0,2016.0,2016.0,2016.0,2016.0,2016.0,2016.0,2016.0,2016.0,2016.0,2016.0,2016.0,2016.0,2016.0,2016.0,2016.0,2016.0,2016.0,2016.0,2016.0,2016.0,2016.0,2016.0,2016.0,2016.0,2016.0,2016.0,2016.0,2016.0,2016.0,2016.0,2016.0,2016.0,2016.0,2016.0,2016.0,2016.0,2016.0,2016.0,2016.0,2016.0,2016.0,2016.0,2016.0,2016.0,2016.0,2016.0,2016.0,2016.0,2016.0,2016.0,2016.0,2016.0,2016.0,2016.0,2016.0,2016.0,2016.0,2016.0,2016.0,2016.0,2016.0,2016.0]},\"selected\":{\"id\":\"1463\"},\"selection_policy\":{\"id\":\"1462\"}},\"id\":\"1414\",\"type\":\"ColumnDataSource\"},{\"attributes\":{\"tile_source\":{\"id\":\"1416\"}},\"id\":\"1483\",\"type\":\"TileRenderer\"},{\"attributes\":{\"axis_label\":\"Magnitude\",\"axis_label_standoff\":10,\"axis_label_text_color\":\"#E0E0E0\",\"axis_label_text_font\":\"Helvetica\",\"axis_label_text_font_size\":\"14pt\",\"axis_label_text_font_style\":\"bold\",\"axis_line_alpha\":0,\"axis_line_color\":\"#E0E0E0\",\"formatter\":{\"id\":\"1578\"},\"major_label_text_color\":\"#E0E0E0\",\"major_label_text_font\":\"Helvetica\",\"major_label_text_font_size\":\"12pt\",\"major_tick_line_alpha\":0,\"major_tick_line_color\":\"#E0E0E0\",\"minor_tick_line_alpha\":0,\"minor_tick_line_color\":\"#E0E0E0\",\"ticker\":{\"id\":\"1553\"}},\"id\":\"1552\",\"type\":\"LinearAxis\"},{\"attributes\":{},\"id\":\"1553\",\"type\":\"BasicTicker\"},{\"attributes\":{\"data\":{\"avg_mag\":[6.0,6.1,6.0,6.1,6.0,6.0,6.0,5.9,5.8,5.9,5.8,5.8,5.8,5.8,5.8,5.8,5.8,5.8,5.9,5.8,5.9,5.8,5.9,5.9,5.8,5.9,5.9,5.9,5.9,5.9,5.9,5.9,5.8,5.9,5.9,5.9,5.9,5.9,5.9,5.9,5.9,5.8,5.9,5.9,5.9,5.9,5.9,5.9,5.9,5.9,5.8,5.9],\"max_mag\":[8.7,7.7,7.2,7.6,7.5,7.4,7.8,8.0,7.4,7.6,7.8,7.5,7.6,7.7,7.9,7.5,7.7,7.1,7.4,7.6,8.0,8.0,7.6,7.8,7.4,7.6,7.1,7.8,7.8,8.3,8.0,7.9,7.8,7.5,7.4,7.9,7.6,7.9,7.6,7.5,7.6,8.0,8.4,7.9,7.8,7.8,9.1,8.6,8.0,8.2,7.5,7.8],\"yrs\":[1965,1966,1967,1968,1969,1970,1971,1972,1973,1974,1975,1976,1977,1978,1979,1980,1981,1982,1983,1984,1985,1986,1987,1988,1989,1990,1991,1992,1993,1994,1995,1996,1997,1998,1999,2000,2001,2002,2003,2004,2005,2006,2007,2008,2009,2010,2011,2012,2013,2014,2015,2016]},\"selected\":{\"id\":\"1583\"},\"selection_policy\":{\"id\":\"1582\"}},\"id\":\"1536\",\"type\":\"ColumnDataSource\"},{\"attributes\":{\"axis\":{\"id\":\"1552\"},\"dimension\":1,\"grid_line_alpha\":0.25,\"grid_line_color\":\"#E0E0E0\",\"ticker\":null},\"id\":\"1555\",\"type\":\"Grid\"},{\"attributes\":{\"fill_alpha\":{\"value\":7.0},\"fill_color\":{\"value\":\"#ccff33\"},\"line_color\":{\"value\":\"#1f77b4\"},\"size\":{\"field\":\"pred_mag_s\",\"units\":\"screen\"},\"x\":{\"field\":\"pred_long\"},\"y\":{\"field\":\"pred_lat\"}},\"id\":\"1468\",\"type\":\"Circle\"},{\"attributes\":{\"label\":{\"value\":\"Predicted Quakes 2017\"},\"renderers\":[{\"id\":\"1470\"}]},\"id\":\"1482\",\"type\":\"LegendItem\"},{\"attributes\":{\"align\":\"center\",\"text\":\"Frequency of Earthquakes by Year\",\"text_color\":{\"value\":\"#E0E0E0\"},\"text_font\":\"serif\",\"text_font_size\":{\"value\":\"20pt\"}},\"id\":\"1487\",\"type\":\"Title\"},{\"attributes\":{\"num_minor_ticks\":2},\"id\":\"1549\",\"type\":\"BasicTicker\"},{\"attributes\":{\"fill_color\":{\"value\":\"yellow\"},\"line_color\":{\"value\":\"yellow\"},\"size\":{\"units\":\"screen\",\"value\":8},\"x\":{\"field\":\"yrs\"},\"y\":{\"field\":\"avg_mag\"}},\"id\":\"1607\",\"type\":\"Circle\"},{\"attributes\":{},\"id\":\"1556\",\"type\":\"PanTool\"},{\"attributes\":{\"active_drag\":\"auto\",\"active_inspect\":\"auto\",\"active_multi\":null,\"active_scroll\":\"auto\",\"active_tap\":\"auto\",\"tools\":[{\"id\":\"1505\"},{\"id\":\"1506\"},{\"id\":\"1507\"},{\"id\":\"1508\"},{\"id\":\"1509\"},{\"id\":\"1510\"},{\"id\":\"1512\"}]},\"id\":\"1513\",\"type\":\"Toolbar\"},{\"attributes\":{},\"id\":\"1557\",\"type\":\"WheelZoomTool\"},{\"attributes\":{\"overlay\":{\"id\":\"1562\"}},\"id\":\"1558\",\"type\":\"BoxZoomTool\"},{\"attributes\":{\"fill_alpha\":{\"value\":0.1},\"fill_color\":{\"value\":\"#cc0000\"},\"line_alpha\":{\"value\":0.1},\"line_color\":{\"value\":\"#cc0000\"},\"top\":{\"field\":\"numQuakes\"},\"width\":{\"value\":0.75},\"x\":{\"field\":\"yrs\"}},\"id\":\"1523\",\"type\":\"VBar\"},{\"attributes\":{\"data_source\":{\"id\":\"1536\"},\"glyph\":{\"id\":\"1573\"},\"hover_glyph\":null,\"muted_glyph\":null,\"nonselection_glyph\":{\"id\":\"1574\"},\"selection_glyph\":null,\"view\":{\"id\":\"1576\"}},\"id\":\"1575\",\"type\":\"GlyphRenderer\"},{\"attributes\":{\"callback\":null,\"tooltips\":[[\"Year\",\" @yrs\"],[\"Average Magnitude\",\" @avg_mag\"],[\"Maximum Magnitude\",\" @max_mag\"]]},\"id\":\"1563\",\"type\":\"HoverTool\"},{\"attributes\":{\"line_alpha\":0.1,\"line_color\":\"#cc0000\",\"line_width\":2,\"x\":{\"field\":\"yrs\"},\"y\":{\"field\":\"max_mag\"}},\"id\":\"1574\",\"type\":\"Line\"},{\"attributes\":{},\"id\":\"1559\",\"type\":\"SaveTool\"},{\"attributes\":{\"background_fill_color\":\"#20262B\",\"below\":[{\"id\":\"1428\"}],\"border_fill_color\":\"#15191C\",\"center\":[{\"id\":\"1431\"},{\"id\":\"1435\"},{\"id\":\"1465\"}],\"left\":[{\"id\":\"1432\"}],\"outline_line_alpha\":0.25,\"outline_line_color\":\"#E0E0E0\",\"plot_height\":450,\"plot_width\":2300,\"renderers\":[{\"id\":\"1455\"},{\"id\":\"1470\"},{\"id\":\"1483\"}],\"title\":{\"id\":\"1418\"},\"toolbar\":{\"id\":\"1444\"},\"toolbar_location\":null,\"x_range\":{\"id\":\"1420\"},\"x_scale\":{\"id\":\"1424\"},\"y_range\":{\"id\":\"1422\"},\"y_scale\":{\"id\":\"1426\"}},\"id\":\"1417\",\"subtype\":\"Figure\",\"type\":\"Plot\"},{\"attributes\":{},\"id\":\"1510\",\"type\":\"HelpTool\"},{\"attributes\":{\"source\":{\"id\":\"1536\"}},\"id\":\"1576\",\"type\":\"CDSView\"},{\"attributes\":{},\"id\":\"1560\",\"type\":\"ResetTool\"},{\"attributes\":{\"source\":{\"id\":\"1415\"}},\"id\":\"1471\",\"type\":\"CDSView\"},{\"attributes\":{},\"id\":\"1509\",\"type\":\"ResetTool\"},{\"attributes\":{},\"id\":\"1505\",\"type\":\"PanTool\"},{\"attributes\":{\"end\":6000000,\"start\":-2000000},\"id\":\"1420\",\"type\":\"Range1d\"},{\"attributes\":{\"bottom_units\":\"screen\",\"fill_alpha\":0.5,\"fill_color\":\"lightgrey\",\"left_units\":\"screen\",\"level\":\"overlay\",\"line_alpha\":1.0,\"line_color\":\"black\",\"line_dash\":[4,4],\"line_width\":2,\"right_units\":\"screen\",\"top_units\":\"screen\"},\"id\":\"1442\",\"type\":\"BoxAnnotation\"},{\"attributes\":{\"label\":{\"value\":\"Quakes 2016\"},\"renderers\":[{\"id\":\"1455\"}]},\"id\":\"1466\",\"type\":\"LegendItem\"},{\"attributes\":{\"attribution\":\"&copy; <a href=\\\"https://www.openstreetmap.org/copyright\\\">OpenStreetMap</a> contributors,&copy; <a href=\\\"https://cartodb.com/attributions\\\">CartoDB</a>\",\"url\":\"https://tiles.basemaps.cartocdn.com/light_all/{z}/{x}/{y}.png\"},\"id\":\"1416\",\"type\":\"WMTSTileSource\"},{\"attributes\":{\"children\":[[{\"id\":\"1417\"},0,0],[{\"id\":\"1486\"},1,0],[{\"id\":\"1537\"},2,0]]},\"id\":\"1640\",\"type\":\"GridBox\"},{\"attributes\":{},\"id\":\"1506\",\"type\":\"WheelZoomTool\"},{\"attributes\":{\"overlay\":{\"id\":\"1511\"}},\"id\":\"1507\",\"type\":\"BoxZoomTool\"},{\"attributes\":{},\"id\":\"1508\",\"type\":\"SaveTool\"},{\"attributes\":{},\"id\":\"1495\",\"type\":\"LinearScale\"},{\"attributes\":{\"data_source\":{\"id\":\"1536\"},\"glyph\":{\"id\":\"1607\"},\"hover_glyph\":null,\"muted_glyph\":null,\"nonselection_glyph\":{\"id\":\"1608\"},\"selection_glyph\":null,\"view\":{\"id\":\"1610\"}},\"id\":\"1609\",\"type\":\"GlyphRenderer\"},{\"attributes\":{\"data\":{\"numQuakes\":[156,98,103,106,114,142,148,178,144,147,150,173,148,158,118,120,117,135,177,161,210,175,213,196,177,196,168,190,197,215,205,242,183,154,170,213,157,182,187,227,230,176,211,214,228,211,360,182,202,198,175,164],\"yrs\":[1965,1966,1967,1968,1969,1970,1971,1972,1973,1974,1975,1976,1977,1978,1979,1980,1981,1982,1983,1984,1985,1986,1987,1988,1989,1990,1991,1992,1993,1994,1995,1996,1997,1998,1999,2000,2001,2002,2003,2004,2005,2006,2007,2008,2009,2010,2011,2012,2013,2014,2015,2016]},\"selected\":{\"id\":\"1532\"},\"selection_policy\":{\"id\":\"1531\"}},\"id\":\"1485\",\"type\":\"ColumnDataSource\"},{\"attributes\":{\"toolbar\":{\"id\":\"1641\"},\"toolbar_location\":\"above\"},\"id\":\"1642\",\"type\":\"ToolbarBox\"},{\"attributes\":{},\"id\":\"1544\",\"type\":\"LinearScale\"},{\"attributes\":{\"align\":\"center\",\"text\":\"Earthquake Map\",\"text_color\":{\"value\":\"#E0E0E0\"},\"text_font\":\"serif\",\"text_font_size\":{\"value\":\"20pt\"}},\"id\":\"1418\",\"type\":\"Title\"},{\"attributes\":{\"align\":\"center\",\"text\":\"Maximum and Average Magnitude by Year\",\"text_color\":{\"value\":\"#E0E0E0\"},\"text_font\":\"serif\",\"text_font_size\":{\"value\":\"20pt\"}},\"id\":\"1538\",\"type\":\"Title\"},{\"attributes\":{\"source\":{\"id\":\"1536\"}},\"id\":\"1610\",\"type\":\"CDSView\"},{\"attributes\":{\"active_drag\":\"auto\",\"active_inspect\":\"auto\",\"active_multi\":null,\"active_scroll\":\"auto\",\"active_tap\":\"auto\",\"tools\":[{\"id\":\"1436\"},{\"id\":\"1437\"},{\"id\":\"1438\"},{\"id\":\"1439\"},{\"id\":\"1440\"},{\"id\":\"1441\"},{\"id\":\"1443\"}]},\"id\":\"1444\",\"type\":\"Toolbar\"},{\"attributes\":{},\"id\":\"1561\",\"type\":\"HelpTool\"},{\"attributes\":{\"axis_label\":null,\"axis_label_standoff\":10,\"axis_label_text_color\":\"#E0E0E0\",\"axis_label_text_font\":\"Helvetica\",\"axis_label_text_font_size\":\"1.25em\",\"axis_label_text_font_style\":\"normal\",\"axis_line_alpha\":0,\"axis_line_color\":\"#E0E0E0\",\"formatter\":{\"id\":\"1460\"},\"major_label_text_color\":\"#E0E0E0\",\"major_label_text_font\":\"Helvetica\",\"major_label_text_font_size\":\"1.025em\",\"major_tick_line_alpha\":0,\"major_tick_line_color\":\"#E0E0E0\",\"minor_tick_line_alpha\":0,\"minor_tick_line_color\":\"#E0E0E0\",\"ticker\":{\"id\":\"1429\"},\"visible\":false},\"id\":\"1428\",\"type\":\"LinearAxis\"},{\"attributes\":{\"line_color\":\"#cc0000\",\"line_width\":2,\"x\":{\"field\":\"yrs\"},\"y\":{\"field\":\"max_mag\"}},\"id\":\"1573\",\"type\":\"Line\"},{\"attributes\":{\"label\":{\"value\":\"Max Magnitude\"},\"renderers\":[{\"id\":\"1575\"}]},\"id\":\"1586\",\"type\":\"LegendItem\"},{\"attributes\":{},\"id\":\"1440\",\"type\":\"ResetTool\"},{\"attributes\":{\"toolbars\":[{\"id\":\"1444\"},{\"id\":\"1513\"},{\"id\":\"1564\"}],\"tools\":[{\"id\":\"1436\"},{\"id\":\"1437\"},{\"id\":\"1438\"},{\"id\":\"1439\"},{\"id\":\"1440\"},{\"id\":\"1441\"},{\"id\":\"1443\"},{\"id\":\"1505\"},{\"id\":\"1506\"},{\"id\":\"1507\"},{\"id\":\"1508\"},{\"id\":\"1509\"},{\"id\":\"1510\"},{\"id\":\"1512\"},{\"id\":\"1556\"},{\"id\":\"1557\"},{\"id\":\"1558\"},{\"id\":\"1559\"},{\"id\":\"1560\"},{\"id\":\"1561\"},{\"id\":\"1563\"}]},\"id\":\"1641\",\"type\":\"ProxyToolbar\"},{\"attributes\":{},\"id\":\"1426\",\"type\":\"LinearScale\"},{\"attributes\":{\"end\":7000000,\"start\":-1000000},\"id\":\"1422\",\"type\":\"Range1d\"},{\"attributes\":{\"data_source\":{\"id\":\"1485\"},\"glyph\":{\"id\":\"1522\"},\"hover_glyph\":null,\"muted_glyph\":null,\"nonselection_glyph\":{\"id\":\"1523\"},\"selection_glyph\":null,\"view\":{\"id\":\"1525\"}},\"id\":\"1524\",\"type\":\"GlyphRenderer\"},{\"attributes\":{},\"id\":\"1424\",\"type\":\"LinearScale\"},{\"attributes\":{\"axis_label\":\"Number of Occurances\",\"axis_label_standoff\":10,\"axis_label_text_color\":\"#E0E0E0\",\"axis_label_text_font\":\"Helvetica\",\"axis_label_text_font_size\":\"14pt\",\"axis_label_text_font_style\":\"bold\",\"axis_line_alpha\":0,\"axis_line_color\":\"#E0E0E0\",\"formatter\":{\"id\":\"1527\"},\"major_label_text_color\":\"#E0E0E0\",\"major_label_text_font\":\"Helvetica\",\"major_label_text_font_size\":\"12pt\",\"major_tick_line_alpha\":0,\"major_tick_line_color\":\"#E0E0E0\",\"minor_tick_line_alpha\":0,\"minor_tick_line_color\":\"#E0E0E0\",\"ticker\":{\"id\":\"1502\"}},\"id\":\"1501\",\"type\":\"LinearAxis\"},{\"attributes\":{\"bottom_units\":\"screen\",\"fill_alpha\":0.5,\"fill_color\":\"lightgrey\",\"left_units\":\"screen\",\"level\":\"overlay\",\"line_alpha\":1.0,\"line_color\":\"black\",\"line_dash\":[4,4],\"line_width\":2,\"right_units\":\"screen\",\"top_units\":\"screen\"},\"id\":\"1562\",\"type\":\"BoxAnnotation\"},{\"attributes\":{\"background_fill_color\":\"#20262B\",\"below\":[{\"id\":\"1548\"}],\"border_fill_color\":\"#15191C\",\"center\":[{\"id\":\"1551\"},{\"id\":\"1555\"},{\"id\":\"1585\"}],\"left\":[{\"id\":\"1552\"}],\"outline_line_alpha\":0.25,\"outline_line_color\":\"#E0E0E0\",\"plot_height\":400,\"plot_width\":1150,\"renderers\":[{\"id\":\"1575\"},{\"id\":\"1590\"},{\"id\":\"1595\"},{\"id\":\"1609\"}],\"title\":{\"id\":\"1538\"},\"toolbar\":{\"id\":\"1564\"},\"toolbar_location\":null,\"x_range\":{\"id\":\"1540\"},\"x_scale\":{\"id\":\"1544\"},\"y_range\":{\"id\":\"1542\"},\"y_scale\":{\"id\":\"1546\"}},\"id\":\"1537\",\"subtype\":\"Figure\",\"type\":\"Plot\"},{\"attributes\":{\"axis\":{\"id\":\"1432\"},\"dimension\":1,\"grid_line_alpha\":0.25,\"grid_line_color\":null,\"ticker\":null},\"id\":\"1435\",\"type\":\"Grid\"},{\"attributes\":{},\"id\":\"1463\",\"type\":\"Selection\"},{\"attributes\":{\"end\":10.1,\"start\":5},\"id\":\"1542\",\"type\":\"Range1d\"},{\"attributes\":{},\"id\":\"1458\",\"type\":\"BasicTickFormatter\"},{\"attributes\":{\"bottom_units\":\"screen\",\"fill_alpha\":0.5,\"fill_color\":\"lightgrey\",\"left_units\":\"screen\",\"level\":\"overlay\",\"line_alpha\":1.0,\"line_color\":\"black\",\"line_dash\":[4,4],\"line_width\":2,\"right_units\":\"screen\",\"top_units\":\"screen\"},\"id\":\"1511\",\"type\":\"BoxAnnotation\"},{\"attributes\":{\"end\":460},\"id\":\"1491\",\"type\":\"Range1d\"},{\"attributes\":{\"source\":{\"id\":\"1414\"}},\"id\":\"1456\",\"type\":\"CDSView\"},{\"attributes\":{\"fill_alpha\":{\"value\":0.1},\"fill_color\":{\"value\":\"yellow\"},\"line_alpha\":{\"value\":0.1},\"line_color\":{\"value\":\"yellow\"},\"size\":{\"units\":\"screen\",\"value\":8},\"x\":{\"field\":\"yrs\"},\"y\":{\"field\":\"avg_mag\"}},\"id\":\"1608\",\"type\":\"Circle\"},{\"attributes\":{\"overlay\":{\"id\":\"1442\"}},\"id\":\"1438\",\"type\":\"BoxZoomTool\"},{\"attributes\":{\"data_source\":{\"id\":\"1414\"},\"glyph\":{\"id\":\"1453\"},\"hover_glyph\":null,\"muted_glyph\":null,\"nonselection_glyph\":{\"id\":\"1454\"},\"selection_glyph\":null,\"view\":{\"id\":\"1456\"}},\"id\":\"1455\",\"type\":\"GlyphRenderer\"},{\"attributes\":{\"fill_alpha\":{\"value\":0.7},\"fill_color\":{\"value\":\"#cc0000\"},\"line_color\":{\"value\":\"#1f77b4\"},\"size\":{\"field\":\"mag_s\",\"units\":\"screen\"},\"x\":{\"field\":\"lon\"},\"y\":{\"field\":\"lat\"}},\"id\":\"1453\",\"type\":\"Circle\"},{\"attributes\":{\"background_fill_alpha\":0.8,\"background_fill_color\":\"black\",\"border_line_alpha\":0,\"click_policy\":\"hide\",\"glyph_width\":15,\"items\":[{\"id\":\"1466\"},{\"id\":\"1482\"}],\"label_standoff\":8,\"label_text_color\":\"white\",\"label_text_font\":\"Helvetica\",\"label_text_font_size\":\"1.025em\",\"location\":\"bottom_right\",\"spacing\":8},\"id\":\"1465\",\"type\":\"Legend\"},{\"attributes\":{\"fill_alpha\":{\"value\":0.1},\"fill_color\":{\"value\":\"#ccff33\"},\"line_alpha\":{\"value\":0.1},\"line_color\":{\"value\":\"#1f77b4\"},\"size\":{\"field\":\"pred_mag_s\",\"units\":\"screen\"},\"x\":{\"field\":\"pred_long\"},\"y\":{\"field\":\"pred_lat\"}},\"id\":\"1469\",\"type\":\"Circle\"},{\"attributes\":{},\"id\":\"1578\",\"type\":\"BasicTickFormatter\"},{\"attributes\":{\"fill_alpha\":{\"value\":0.1},\"fill_color\":{\"value\":\"#cc0000\"},\"line_alpha\":{\"value\":0.1},\"line_color\":{\"value\":\"#1f77b4\"},\"size\":{\"field\":\"mag_s\",\"units\":\"screen\"},\"x\":{\"field\":\"lon\"},\"y\":{\"field\":\"lat\"}},\"id\":\"1454\",\"type\":\"Circle\"},{\"attributes\":{},\"id\":\"1583\",\"type\":\"Selection\"},{\"attributes\":{\"axis_label\":\"Years\",\"axis_label_standoff\":10,\"axis_label_text_color\":\"#E0E0E0\",\"axis_label_text_font\":\"Helvetica\",\"axis_label_text_font_size\":\"14pt\",\"axis_label_text_font_style\":\"bold\",\"axis_line_alpha\":0,\"axis_line_color\":\"#E0E0E0\",\"formatter\":{\"id\":\"1529\"},\"major_label_text_color\":\"#E0E0E0\",\"major_label_text_font\":\"Helvetica\",\"major_label_text_font_size\":\"12pt\",\"major_tick_line_alpha\":0,\"major_tick_line_color\":\"#E0E0E0\",\"minor_tick_line_alpha\":0,\"minor_tick_line_color\":\"#E0E0E0\",\"ticker\":{\"id\":\"1498\"}},\"id\":\"1497\",\"type\":\"LinearAxis\"},{\"attributes\":{},\"id\":\"1460\",\"type\":\"BasicTickFormatter\"},{\"attributes\":{},\"id\":\"1527\",\"type\":\"BasicTickFormatter\"},{\"attributes\":{},\"id\":\"1433\",\"type\":\"BasicTicker\"},{\"attributes\":{\"background_fill_color\":\"#20262B\",\"below\":[{\"id\":\"1497\"}],\"border_fill_color\":\"#15191C\",\"center\":[{\"id\":\"1500\"},{\"id\":\"1504\"},{\"id\":\"1534\"}],\"left\":[{\"id\":\"1501\"}],\"outline_line_alpha\":0.25,\"outline_line_color\":\"#E0E0E0\",\"plot_height\":400,\"plot_width\":1150,\"renderers\":[{\"id\":\"1524\"}],\"title\":{\"id\":\"1487\"},\"toolbar\":{\"id\":\"1513\"},\"toolbar_location\":null,\"x_range\":{\"id\":\"1489\"},\"x_scale\":{\"id\":\"1493\"},\"y_range\":{\"id\":\"1491\"},\"y_scale\":{\"id\":\"1495\"}},\"id\":\"1486\",\"subtype\":\"Figure\",\"type\":\"Plot\"},{\"attributes\":{\"active_drag\":\"auto\",\"active_inspect\":\"auto\",\"active_multi\":null,\"active_scroll\":\"auto\",\"active_tap\":\"auto\",\"tools\":[{\"id\":\"1556\"},{\"id\":\"1557\"},{\"id\":\"1558\"},{\"id\":\"1559\"},{\"id\":\"1560\"},{\"id\":\"1561\"},{\"id\":\"1563\"}]},\"id\":\"1564\",\"type\":\"Toolbar\"},{\"attributes\":{},\"id\":\"1540\",\"type\":\"DataRange1d\"},{\"attributes\":{},\"id\":\"1502\",\"type\":\"BasicTicker\"},{\"attributes\":{},\"id\":\"1462\",\"type\":\"UnionRenderers\"},{\"attributes\":{\"fill_color\":{\"value\":\"#cc0000\"},\"line_color\":{\"value\":\"#cc0000\"},\"top\":{\"field\":\"numQuakes\"},\"width\":{\"value\":0.75},\"x\":{\"field\":\"yrs\"}},\"id\":\"1522\",\"type\":\"VBar\"},{\"attributes\":{\"callback\":null,\"tooltips\":[[\"Year\",\" @yrs\"],[\"Number of earthquakes\",\" @numQuakes\"]]},\"id\":\"1512\",\"type\":\"HoverTool\"},{\"attributes\":{},\"id\":\"1493\",\"type\":\"LinearScale\"},{\"attributes\":{\"fill_alpha\":{\"value\":0.1},\"fill_color\":{\"value\":\"#cc0000\"},\"line_alpha\":{\"value\":0.1},\"line_color\":{\"value\":\"#cc0000\"},\"size\":{\"units\":\"screen\",\"value\":8},\"x\":{\"field\":\"yrs\"},\"y\":{\"field\":\"max_mag\"}},\"id\":\"1589\",\"type\":\"Circle\"},{\"attributes\":{},\"id\":\"1439\",\"type\":\"SaveTool\"},{\"attributes\":{},\"id\":\"1437\",\"type\":\"WheelZoomTool\"},{\"attributes\":{},\"id\":\"1429\",\"type\":\"BasicTicker\"},{\"attributes\":{\"source\":{\"id\":\"1485\"}},\"id\":\"1525\",\"type\":\"CDSView\"},{\"attributes\":{},\"id\":\"1580\",\"type\":\"BasicTickFormatter\"},{\"attributes\":{},\"id\":\"1436\",\"type\":\"PanTool\"},{\"attributes\":{\"num_minor_ticks\":2},\"id\":\"1498\",\"type\":\"BasicTicker\"},{\"attributes\":{},\"id\":\"1441\",\"type\":\"HelpTool\"},{\"attributes\":{},\"id\":\"1582\",\"type\":\"UnionRenderers\"},{\"attributes\":{\"axis\":{\"id\":\"1428\"},\"grid_line_alpha\":0.25,\"grid_line_color\":null,\"ticker\":null},\"id\":\"1431\",\"type\":\"Grid\"},{\"attributes\":{},\"id\":\"1529\",\"type\":\"BasicTickFormatter\"},{\"attributes\":{\"fill_color\":{\"value\":\"#cc0000\"},\"line_color\":{\"value\":\"#cc0000\"},\"size\":{\"units\":\"screen\",\"value\":8},\"x\":{\"field\":\"yrs\"},\"y\":{\"field\":\"max_mag\"}},\"id\":\"1588\",\"type\":\"Circle\"},{\"attributes\":{\"callback\":null,\"tooltips\":[[\"Year\",\" @year\"],[\"Magnitude\",\" @mag\"],[\"Predicted Magnitude\",\" @pred_mag\"]]},\"id\":\"1443\",\"type\":\"HoverTool\"},{\"attributes\":{\"data_source\":{\"id\":\"1415\"},\"glyph\":{\"id\":\"1468\"},\"hover_glyph\":null,\"muted_glyph\":null,\"nonselection_glyph\":{\"id\":\"1469\"},\"selection_glyph\":null,\"view\":{\"id\":\"1471\"}},\"id\":\"1470\",\"type\":\"GlyphRenderer\"},{\"attributes\":{\"axis\":{\"id\":\"1501\"},\"dimension\":1,\"grid_line_alpha\":0.25,\"grid_line_color\":\"#E0E0E0\",\"ticker\":null},\"id\":\"1504\",\"type\":\"Grid\"},{\"attributes\":{\"axis_label\":null,\"axis_label_standoff\":10,\"axis_label_text_color\":\"#E0E0E0\",\"axis_label_text_font\":\"Helvetica\",\"axis_label_text_font_size\":\"1.25em\",\"axis_label_text_font_style\":\"normal\",\"axis_line_alpha\":0,\"axis_line_color\":\"#E0E0E0\",\"formatter\":{\"id\":\"1458\"},\"major_label_text_color\":\"#E0E0E0\",\"major_label_text_font\":\"Helvetica\",\"major_label_text_font_size\":\"1.025em\",\"major_tick_line_alpha\":0,\"major_tick_line_color\":\"#E0E0E0\",\"minor_tick_line_alpha\":0,\"minor_tick_line_color\":\"#E0E0E0\",\"ticker\":{\"id\":\"1433\"},\"visible\":false},\"id\":\"1432\",\"type\":\"LinearAxis\"},{\"attributes\":{\"background_fill_alpha\":0.25,\"background_fill_color\":\"#20262B\",\"border_line_alpha\":0,\"glyph_width\":15,\"items\":[{\"id\":\"1586\"},{\"id\":\"1605\"}],\"label_standoff\":8,\"label_text_color\":\"#E0E0E0\",\"label_text_font\":\"Helvetica\",\"label_text_font_size\":\"1.025em\",\"location\":\"top_left\",\"spacing\":8},\"id\":\"1585\",\"type\":\"Legend\"}],\"root_ids\":[\"1643\"]},\"title\":\"Bokeh Application\",\"version\":\"2.1.1\"}};\n",
       "  var render_items = [{\"docid\":\"5f73b81b-40be-4a1b-85fe-cd445785e349\",\"root_ids\":[\"1643\"],\"roots\":{\"1643\":\"e64214d5-347a-45aa-9b29-871264508f63\"}}];\n",
       "  root.Bokeh.embed.embed_items_notebook(docs_json, render_items);\n",
       "\n",
       "  }\n",
       "  if (root.Bokeh !== undefined) {\n",
       "    embed_document(root);\n",
       "  } else {\n",
       "    var attempts = 0;\n",
       "    var timer = setInterval(function(root) {\n",
       "      if (root.Bokeh !== undefined) {\n",
       "        clearInterval(timer);\n",
       "        embed_document(root);\n",
       "      } else {\n",
       "        attempts++;\n",
       "        if (attempts > 100) {\n",
       "          clearInterval(timer);\n",
       "          console.log(\"Bokeh: ERROR: Unable to run BokehJS code because BokehJS library is missing\");\n",
       "        }\n",
       "      }\n",
       "    }, 10, root)\n",
       "  }\n",
       "})(window);"
      ],
      "application/vnd.bokehjs_exec.v0+json": ""
     },
     "metadata": {
      "application/vnd.bokehjs_exec.v0+json": {
       "id": "1643"
      }
     },
     "output_type": "display_data"
    }
   ],
   "source": [
    "# Build the grid plot\n",
    "from bokeh.layouts import gridplot\n",
    "\n",
    "# Make the grid\n",
    "grid = gridplot([[plotMap()], [plotBar()], [plotMagnitude()]])\n",
    "\n",
    "# Shor the grid\n",
    "show(grid)"
   ]
  },
  {
   "cell_type": "code",
   "execution_count": 64,
   "metadata": {},
   "outputs": [],
   "source": [
    "# Display the visuals directly in the browser\n",
    "output_file('dashboard.html')\n",
    "# Change to a dark theme\n",
    "curdoc().theme = 'dark_minimal'"
   ]
  },
  {
   "cell_type": "code",
   "execution_count": null,
   "metadata": {},
   "outputs": [],
   "source": []
  },
  {
   "cell_type": "code",
   "execution_count": null,
   "metadata": {},
   "outputs": [],
   "source": []
  },
  {
   "cell_type": "code",
   "execution_count": null,
   "metadata": {},
   "outputs": [],
   "source": []
  },
  {
   "cell_type": "code",
   "execution_count": null,
   "metadata": {},
   "outputs": [],
   "source": []
  },
  {
   "cell_type": "code",
   "execution_count": null,
   "metadata": {},
   "outputs": [],
   "source": []
  },
  {
   "cell_type": "code",
   "execution_count": null,
   "metadata": {},
   "outputs": [],
   "source": []
  }
 ],
 "metadata": {
  "kernelspec": {
   "display_name": "Python 3",
   "language": "python",
   "name": "python3"
  },
  "language_info": {
   "codemirror_mode": {
    "name": "ipython",
    "version": 3
   },
   "file_extension": ".py",
   "mimetype": "text/x-python",
   "name": "python",
   "nbconvert_exporter": "python",
   "pygments_lexer": "ipython3",
   "version": "3.7.8"
  }
 },
 "nbformat": 4,
 "nbformat_minor": 4
}
